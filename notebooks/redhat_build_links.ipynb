{
 "cells": [
  {
   "cell_type": "markdown",
   "metadata": {},
   "source": [
    "# Red Hat to match iforge March 2019\n",
    "```bash\n",
    "cat /etc/redhat-release\n",
    "# Red Hat Enterprise Linux Server release 6.10\n",
    "uname -r\n",
    "# 2.6.32-754.10.1.el6.x86_64\n",
    "\n",
    "```\n",
    "## Redhat match \n",
    "```bash\n",
    "docker pull registry.access.redhat.com/rhel6/rhel:latest\n",
    "# Red Hat Enterprise Linux Server release 6.10 (Santiago)\n",
    "# 4.9.125-linuxkit\n",
    "#\n",
    "# with perl:\n",
    "docker pull registry.centos.org/centos/pgweb:latest\n",
    "```\n",
    "## CentOS 6\n",
    "```bash\n",
    "docker pull centos:centos6\n",
    "docker run -it centos:centos6\n",
    "# root\n",
    "cat /etc/centos-release\n",
    "# CentOS release 6.10 (Final)\n",
    "uname -r\n",
    "4.9.125-linuxkit\n",
    "```\n",
    "****\n",
    "## CentOS\n",
    "[centos dockerfiles for general build](https://github.com/CentOS/CentOS-Dockerfiles) <br>\n",
    "[basic centos6 build](https://github.com/CentOS/CentOS-Dockerfiles/tree/master/python/centos6) <br>\n",
    "[centos6 build from dockerfile](https://github.com/CentOS/sig-cloud-instance-images) <br>\n",
    "[centos downloads](https://wiki.centos.org/Download) <br>\n",
    "[centos get account](https://accounts.centos.org/) <br>\n",
    "[centos org scratch build .gz](https://github.com/CentOS/sig-cloud-instance-images/blob/8911843d9a6cc71aadd81e491f94618aded94f30/docker/Dockerfile) <br>\n",
    "[docker centos](https://hub.docker.com/_/centos/) <br>\n",
    "[father linux centos5-base](https://hub.docker.com/r/fatherlinux/centos5-base) <br>\n",
    "\n",
    "## fedora\n",
    "[fedora](https://hub.docker.com/_/fedora) <br>\n"
   ]
  },
  {
   "cell_type": "code",
   "execution_count": null,
   "metadata": {},
   "outputs": [],
   "source": []
  }
 ],
 "metadata": {
  "kernelspec": {
   "display_name": "Python 3",
   "language": "python",
   "name": "python3"
  },
  "language_info": {
   "codemirror_mode": {
    "name": "ipython",
    "version": 3
   },
   "file_extension": ".py",
   "mimetype": "text/x-python",
   "name": "python",
   "nbconvert_exporter": "python",
   "pygments_lexer": "ipython3",
   "version": "3.6.5"
  }
 },
 "nbformat": 4,
 "nbformat_minor": 2
}
