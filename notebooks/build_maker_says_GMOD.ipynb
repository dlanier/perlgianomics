{
 "cells": [
  {
   "cell_type": "markdown",
   "metadata": {},
   "source": [
    "# Initial links from LM email:\n",
    "#### NCSA Wiki\n",
    "[MAKER](https://wiki.ncsa.illinois.edu/pages/viewpage.action?spaceKey=pspinternal&title=MAKER) <br>\n",
    "[MAKER install](https://wiki.ncsa.illinois.edu/display/pspinternal/MAKER+install%3A+January+2017%2C+then+update+November+2018) <br>\n",
    "[Important Perl note](https://wiki.ncsa.illinois.edu/pages/viewpage.action?pageId=46471695) <br>\n",
    "#### Usefull\n",
    "[Usefull Winter_School_2018 install notes from weatherby.genetics.utah.edu](http://weatherby.genetics.utah.edu/MAKER/wiki/index.php/MAKER_Tutorial_for_WGS_Assembly_and_Annotation_Winter_School_2018#Installation) <br>\n",
    "****\n",
    "\n",
    "# Further research links: Build container, Install Maker\n",
    "[GMOD](http://gmod.org/wiki/Main_Page) <br>\n",
    "[GMOD Maker](http://gmod.org/wiki/MAKER) <br>\n",
    "[GMOD big happy happy Tutorial](http://gmod.org/wiki/GMOD_Malaysia_2014/MAKER_Tutorial) <br>\n",
    "[tutorial](http://weatherby.genetics.utah.edu/MAKER/wiki/index.php/MAKER_Tutorial_for_GMOD_Online_Training_2014) <br>\n",
    "****\n",
    "## Installs:\n",
    "[Perl 5.8.0 =+](https://www.perl.org/get.html) <br>\n",
    "[BioPerl 1.6 =+](https://bioperl.org/INSTALL.html) <br>\n",
    "[(GMOD BioPerl)](http://gmod.org/wiki/BioPerl) <br>\n",
    "****\n",
    "### Either OR\n",
    "IFFY==Iffie <br>\n",
    "[WU-BLAST 2.0 =+](http://genetics.bwh.harvard.edu/msblast/README.html#Installation) <br>\n",
    "[WU-BLAST 2.0 ?](http://blast.wustl.edu/) <br>\n",
    "OR mo betta OPTION <br>\n",
    "[NCBI-BLAST 2.2 =+](https://www.ncbi.nlm.nih.gov/books/NBK279671/) <br>\n",
    "****\n",
    "[repeatmasker dot org](http://www.repeatmasker.org/) <br>\n",
    "[RepeatMasker](https://supcom.hgc.jp/english/utili_info/manual/RepeatMasker.html) <br>\n",
    "[Biostars RepeatMasker page](https://www.biostars.org/p/286992/) <br>\n",
    "[RepeatMakers required library(s)](https://www.girinst.org/repbase/index.html) <br>\n",
    "****\n",
    "[Exonerate Perl? ](https://www.animalgenome.org/bioinfo/resources/manuals/exonerate/) <br>\n",
    "****\n",
    "### Optional Extras:\n",
    "[SNAP](http://korflab.ucdavis.edu/software.html) <br>\n",
    "[Augustus](http://bioinf.uni-greifswald.de/augustus/) <br>\n",
    "[GeneMark S and -ES](http://exon.biology.gatech.edu/GeneMark/) <br>\n",
    "[FGENESH](http://www.softberry.com/) <br>\n",
    "****\n",
    "### MPI Option:\n",
    "[MPICH ?](http://www.mpich.org/) <br>\n",
    "### Dockerfiles:\n",
    "[GenomicParisCentre dockerfiles](https://github.com/GenomicParisCentre/dockerfiles) <br>\n",
    "[BioContainers](https://github.com/BioContainers/containers) <br>\n",
    "\n",
    "## Bioconda recipe for building maker\n",
    "****\n",
    "[BioConda maker package recipie](https://bioconda.github.io/recipes/maker/README.html) <br>\n",
    "****\n",
    "[Bioconda - repo of recipies](https://bioconda.github.io/index.html#set-up-channels) <br>\n",
    "[BioConda Notebooks](https://github.com/BioContainers/biotools-bioconda-ids) <br>\n",
    "****\n",
    "[bio tools maker](https://bio.tools/maker) <br>\n",
    "[mybiosoftware.com maker pipeline](http://www.mybiosoftware.com/maker-2-20120116-genome-annotation-pipeline.html) <br>\n",
    "\n",
    "# Docker way out:\n",
    "```bash\n",
    "docker pull quay.io/biocontainers/maker:2.31.10--pl526_11\n",
    "```\n",
    "## Or\n",
    "```bash\n",
    "docker create --name=mymaker -v `pwd`:/home/temp_usr/run_dir -it quay.io/biocontainers/maker:2.31.10--pl526_11\n",
    "docker start mymaker\n",
    "docker exec -it mymaker maker -version\n",
    "# etc if you know maker\n",
    "docker exec -it mymaker perl --version\n",
    "```\n",
    "## UCSC Genome Browser && db containers:\n",
    "[UCSC Genome Browser](http://genome.ucsc.edu/) <br>\n",
    "[UCSC Genome Browser Dockerfile](https://github.com/icebert/docker_ucsc_genome_browser) <br>\n",
    "[MySQL db Dockerfile for UCSC G.B.](https://github.com/icebert/docker_ucsc_genome_browser_db) <br>\n",
    "****\n",
    "[UCSC Genome Browser & MySQL DB on Docker registry](https://hub.docker.com/r/icebert/ucsc_genome_browser/) <br>\n",
    "```bash\n",
    "# start MySQL \n",
    "docker run -d --name gbdb -p 3338:3306 icebert/ucsc_genome_browser_db\n",
    "# & link to GenomeBrowser\n",
    "docker run -d --link gbdb:gbdb -p 8038:80 icebert/ucsc_genome_browser\n",
    "```\n",
    "****\n",
    "### papers\n",
    "[MAKER: easy-to-use pdf](https://www.ncbi.nlm.nih.gov/pubmed/18025269) <br>\n",
    "[Genome Annotation useing Maker](https://www.ncbi.nlm.nih.gov/pmc/articles/PMC4286374/) <br>"
   ]
  },
  {
   "cell_type": "code",
   "execution_count": null,
   "metadata": {},
   "outputs": [],
   "source": []
  },
  {
   "cell_type": "markdown",
   "metadata": {},
   "source": [
    "## Apollo Genome browser:\n",
    "[Apollo on Git Hub](https://github.com/GMOD/docker-apollo) <br>\n",
    "[biomedcentral splash page](https://genomebiology.biomedcentral.com/articles/10.1186/gb-2013-14-8-r93) <br>\n",
    "[Genome Architect](http://genomearchitect.org/) <br>\n",
    "[read the docs](https://genomearchitect.readthedocs.io/en/1.0.4/) <br>\n",
    "[GMOD Apollo Git Hub](https://github.com/GMOD/Apollo/) <br>\n",
    "[]() <br>"
   ]
  },
  {
   "cell_type": "code",
   "execution_count": null,
   "metadata": {},
   "outputs": [],
   "source": []
  },
  {
   "cell_type": "code",
   "execution_count": null,
   "metadata": {},
   "outputs": [],
   "source": []
  },
  {
   "cell_type": "code",
   "execution_count": null,
   "metadata": {},
   "outputs": [],
   "source": []
  },
  {
   "cell_type": "code",
   "execution_count": null,
   "metadata": {},
   "outputs": [],
   "source": []
  },
  {
   "cell_type": "code",
   "execution_count": null,
   "metadata": {},
   "outputs": [],
   "source": []
  },
  {
   "cell_type": "code",
   "execution_count": null,
   "metadata": {},
   "outputs": [],
   "source": []
  },
  {
   "cell_type": "code",
   "execution_count": null,
   "metadata": {},
   "outputs": [],
   "source": []
  },
  {
   "cell_type": "code",
   "execution_count": null,
   "metadata": {},
   "outputs": [],
   "source": []
  },
  {
   "cell_type": "code",
   "execution_count": null,
   "metadata": {},
   "outputs": [],
   "source": []
  },
  {
   "cell_type": "code",
   "execution_count": null,
   "metadata": {},
   "outputs": [],
   "source": []
  },
  {
   "cell_type": "code",
   "execution_count": null,
   "metadata": {},
   "outputs": [],
   "source": []
  }
 ],
 "metadata": {
  "kernelspec": {
   "display_name": "Python 3",
   "language": "python",
   "name": "python3"
  },
  "language_info": {
   "codemirror_mode": {
    "name": "ipython",
    "version": 3
   },
   "file_extension": ".py",
   "mimetype": "text/x-python",
   "name": "python",
   "nbconvert_exporter": "python",
   "pygments_lexer": "ipython3",
   "version": "3.6.7"
  }
 },
 "nbformat": 4,
 "nbformat_minor": 2
}
