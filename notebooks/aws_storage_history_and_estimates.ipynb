{
 "cells": [
  {
   "cell_type": "markdown",
   "metadata": {},
   "source": [
    "# July 15 2019 aws storage cost for ncsa genomics projects:\n",
    "```text\n",
    "    Note that the monthly cost of 3 TB of s3 storage \n",
    "    is comparable to the daily cost of the \n",
    "    largest hard drive (5 TB) in the table below.\n",
    "```\n",
    "[Amazon s3 pricing](https://aws.amazon.com/s3/pricing/) <br>\n",
    "[Amazon EBS (Elastic Block Storage) pricing](https://aws.amazon.com/ebs/pricing/) <br> \n",
    "[Amazon EC2 pricing](https://aws.amazon.com/ec2/pricing/on-demand/) <br>\n",
    "[Amazon EC2-EBS pricing estimator (new & improved)](https://aws.amazon.com/blogs/aws/check-it-out-new-aws-pricing-calculator-for-ec2-and-ebs/) <br>\n",
    "<br>\n",
    "***\n",
    "## Estimate S3 bucket upload of 3.0 TiB iforge DataPacks/human\n",
    "0.023 per GB month <br>\n",
    "3000 * 0.023 = 69.00 <br>\n",
    "[amazon cloud storage costs blog page](https://blog.cloudability.com/aws-s3-understanding-cloud-storage-costs-to-save/) <br>\n",
    "<br>\n",
    "***\n",
    "## Estimate *volumes* cleanup savings\n",
    "These Volumes were attached to stopped EC2 instances but were still being charged. <br>\n",
    "\n",
    "IOPS = Input / Output Operations Per Second (per month of availability)  <br>\n",
    "IOPS drives price = 0.125 per GB mo + 0.065 per provisioned IOPS-month <br>\n",
    "\n",
    "| *volume ID* | *size (GB)* | *IOPS* | *== GB + IOPS (estimated cost/mo)* |\n",
    "|-------------|--------|------|------|\n",
    "|vol-0ac07a7336d647a4f|5000|15000|625.00 + 975.00 = 1600.00|\n",
    "|vol-0fa00f6bda7cbc4c7|250|10000|31.25 + 650.00 = 681.25|\n",
    "|vol-0a95364d9a46a8a47|250|10000|31.25 + 48.75 = 80.00|\n",
    "|vol-07366977d2b43d0f0|600|100|75.00 + 6.50 = 81.50|\n",
    "|vol-0c3638a22a1d9ec6a|600|100|75.00 + 6.50 = 81.50|\n",
    "|-------------|--------|------|------|\n",
    "|Total|6700|various|2524.25|\n",
    "\n",
    "#### *volumes were successfully removed Monday July 15*"
   ]
  }
 ],
 "metadata": {
  "kernelspec": {
   "display_name": "Python 3",
   "language": "python",
   "name": "python3"
  },
  "language_info": {
   "codemirror_mode": {
    "name": "ipython",
    "version": 3
   },
   "file_extension": ".py",
   "mimetype": "text/x-python",
   "name": "python",
   "nbconvert_exporter": "python",
   "pygments_lexer": "ipython3",
   "version": "3.6.5"
  }
 },
 "nbformat": 4,
 "nbformat_minor": 2
}
