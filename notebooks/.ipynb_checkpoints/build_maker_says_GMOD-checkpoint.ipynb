{
 "cells": [
  {
   "cell_type": "markdown",
   "metadata": {},
   "source": [
    "# Build container, Install Maker\n",
    "[GMOD](http://gmod.org/wiki/Main_Page) <br>\n",
    "[GMOD Maker](http://gmod.org/wiki/MAKER) <br>\n",
    "## Installs:\n",
    "[Perl 5.8.0 =+](https://www.perl.org/get.html) <br>\n",
    "[BioPerl 1.6 =+](https://bioperl.org/INSTALL.html) <br>\n",
    "[(GMOD BioPerl)](http://gmod.org/wiki/BioPerl) <br>\n",
    "****\n",
    "IFFY==Iffie <br>\n",
    "[WU-BLAST 2.0 =+](http://genetics.bwh.harvard.edu/msblast/README.html#Installation) <br>\n",
    "[WU-BLAST 2.0 ?](http://blast.wustl.edu/) <br>\n",
    "OR mo betta OPTION <br>\n",
    "[NCBI-BLAST 2.2 =+](https://www.ncbi.nlm.nih.gov/books/NBK279671/) <br>\n",
    "****\n",
    "[repeatmasker dot org](http://www.repeatmasker.org/) <br>\n",
    "[RepeatMasker](https://supcom.hgc.jp/english/utili_info/manual/RepeatMasker.html) <br>\n",
    "[Biostars RepeatMasker page](https://www.biostars.org/p/286992/) <br>\n",
    "[RepeatMakers required library(s)](https://www.girinst.org/repbase/index.html) <br>\n",
    "****\n",
    "[Exonerate Perl? ](https://www.animalgenome.org/bioinfo/resources/manuals/exonerate/) <br>\n",
    "****\n",
    "### Optional Extras:\n",
    "[SNAP](http://korflab.ucdavis.edu/software.html) <br>\n",
    "[Augustus](http://bioinf.uni-greifswald.de/augustus/) <br>\n",
    "[GeneMark S and -ES](http://exon.biology.gatech.edu/GeneMark/) <br>\n",
    "[FGENESH](http://www.softberry.com/) <br>\n",
    "****\n",
    "### MPI Option:\n",
    "[MPICH ?](http://www.mpich.org/) <br>\n"
   ]
  },
  {
   "cell_type": "code",
   "execution_count": null,
   "metadata": {},
   "outputs": [],
   "source": []
  }
 ],
 "metadata": {
  "kernelspec": {
   "display_name": "Python 3",
   "language": "python",
   "name": "python3"
  },
  "language_info": {
   "codemirror_mode": {
    "name": "ipython",
    "version": 3
   },
   "file_extension": ".py",
   "mimetype": "text/x-python",
   "name": "python",
   "nbconvert_exporter": "python",
   "pygments_lexer": "ipython3",
   "version": "3.6.7"
  }
 },
 "nbformat": 4,
 "nbformat_minor": 2
}
