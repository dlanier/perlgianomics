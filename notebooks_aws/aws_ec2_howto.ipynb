{
 "cells": [
  {
   "cell_type": "markdown",
   "metadata": {},
   "source": [
    "# EC2 scale-up or down with python boto3\n",
    "[aws sdk landing page](https://aws.amazon.com/sdk-for-python/) <br>\n",
    "[SQS: queue service tutorial](https://blog.iron.io/amazon-sqs-simple-queue-service-overview-and-tutorial/) <br>\n",
    "\n",
    "## access aws ec2 instances with boto3:\n",
    "[boto3 ec2 client](https://boto3.amazonaws.com/v1/documentation/api/latest/reference/services/ec2.html#client) <br>\n",
    "[boto3 ec2 client describe instances](https://boto3.amazonaws.com/v1/documentation/api/latest/reference/services/ec2.html#EC2.Client.describe_instances) <br>\n",
    "[api doc trick for boto3](https://stackoverflow.com/questions/44008633/where-is-the-api-documentation-for-boto3) <br>\n",
    "***\n",
    "## example code\n",
    "[ipswitch blog how-to](https://blog.ipswitch.com/managing-aws-ec2-infrastructure-with-python)<br> \n",
    "\n",
    "### hard line help\n",
    "```python\n",
    "boto3.resource('potato')\n",
    "\"\"\"\n",
    "ResourceNotExistsError: The 'potato' resource does not exist.\n",
    "The available resources are:\n",
    "   - cloudformation\n",
    "   - cloudwatch\n",
    "   - dynamodb\n",
    "   - ec2\n",
    "   - glacier\n",
    "   - iam\n",
    "   - opsworks\n",
    "   - s3\n",
    "   - sns\n",
    "   - sqs\n",
    "\"\"\"\n",
    "```\n",
    "```python\n",
    "boto3.client('bogus')\n",
    "\"\"\"\n",
    "UnknownServiceError: Unknown service: 'bogus'. Valid service names are: acm, acm-pca, alexaforbusiness, amplify, apigateway, apigatewaymanagementapi, apigatewayv2, application-autoscaling, application-insights, appmesh, appstream, appsync, athena, autoscaling, autoscaling-plans, backup, batch, budgets, ce, chime, cloud9, clouddirectory, cloudformation, cloudfront, cloudhsm, cloudhsmv2, cloudsearch, cloudsearchdomain, cloudtrail, cloudwatch, codebuild, codecommit, codedeploy, codepipeline, codestar, cognito-identity, cognito-idp, cognito-sync, comprehend, comprehendmedical, config, connect, cur, datapipeline, datasync, dax, devicefarm, directconnect, discovery, dlm, dms, docdb, ds, dynamodb, dynamodbstreams, ec2, ec2-instance-connect, ecr, ecs, efs, eks, elasticache, elasticbeanstalk, elastictranscoder, elb, elbv2, emr, es, events, firehose, fms, fsx, gamelift, glacier, globalaccelerator, glue, greengrass, groundstation, guardduty, health, iam, importexport, inspector, iot, iot-data, iot-jobs-data, iot1click-devices, iot1click-projects, iotanalytics, iotevents, iotevents-data, iotthingsgraph, kafka, kinesis, kinesis-video-archived-media, kinesis-video-media, kinesisanalytics, kinesisanalyticsv2, kinesisvideo, kms, lambda, lex-models, lex-runtime, license-manager, lightsail, logs, machinelearning, macie, managedblockchain, marketplace-entitlement, marketplacecommerceanalytics, mediaconnect, mediaconvert, medialive, mediapackage, mediapackage-vod, mediastore, mediastore-data, mediatailor, meteringmarketplace, mgh, mobile, mq, mturk, neptune, opsworks, opsworkscm, organizations, personalize, personalize-events, personalize-runtime, pi, pinpoint, pinpoint-email, pinpoint-sms-voice, polly, pricing, quicksight, ram, rds, rds-data, redshift, rekognition, resource-groups, resourcegroupstaggingapi, robomaker, route53, route53domains, route53resolver, s3, s3control, sagemaker, sagemaker-runtime, sdb, secretsmanager, securityhub, serverlessrepo, service-quotas, servicecatalog, servicediscovery, ses, shield, signer, sms, sms-voice, snowball, sns, sqs, ssm, stepfunctions, storagegateway, sts, support, swf, textract, transcribe, transfer, translate, waf, waf-regional, workdocs, worklink, workmail, workspaces, xray\n",
    "\"\"\"\n",
    "```"
   ]
  },
  {
   "cell_type": "code",
   "execution_count": 16,
   "metadata": {},
   "outputs": [],
   "source": [
    "import os\n",
    "import sys\n",
    "import boto3\n"
   ]
  },
  {
   "cell_type": "code",
   "execution_count": 17,
   "metadata": {},
   "outputs": [
    {
     "data": {
      "text/plain": [
       "['ClassicAddress',\n",
       " 'DhcpOptions',\n",
       " 'Image',\n",
       " 'Instance',\n",
       " 'InternetGateway',\n",
       " 'KeyPair',\n",
       " 'NetworkAcl',\n",
       " 'NetworkInterface',\n",
       " 'NetworkInterfaceAssociation',\n",
       " 'PlacementGroup',\n",
       " 'Route',\n",
       " 'RouteTable',\n",
       " 'RouteTableAssociation',\n",
       " 'SecurityGroup',\n",
       " 'Snapshot',\n",
       " 'Subnet',\n",
       " 'Tag',\n",
       " 'Volume',\n",
       " 'Vpc',\n",
       " 'VpcAddress',\n",
       " 'VpcPeeringConnection']"
      ]
     },
     "execution_count": 17,
     "metadata": {},
     "output_type": "execute_result"
    }
   ],
   "source": [
    "myec2 = boto3.resource('ec2')\n",
    "some_list = myec2.get_available_subresources()\n",
    "some_list"
   ]
  },
  {
   "cell_type": "code",
   "execution_count": 19,
   "metadata": {},
   "outputs": [
    {
     "data": {
      "text/plain": [
       "{'StartingInstances': [{'CurrentState': {'Code': 0, 'Name': 'pending'},\n",
       "   'InstanceId': 'i-0284b0d2661051881',\n",
       "   'PreviousState': {'Code': 80, 'Name': 'stopped'}}],\n",
       " 'ResponseMetadata': {'RequestId': 'e19400c7-26c7-4eed-9445-419aab517b26',\n",
       "  'HTTPStatusCode': 200,\n",
       "  'HTTPHeaders': {'content-type': 'text/xml;charset=UTF-8',\n",
       "   'content-length': '579',\n",
       "   'date': 'Tue, 16 Jul 2019 22:07:35 GMT',\n",
       "   'server': 'AmazonEC2'},\n",
       "  'RetryAttempts': 0}}"
      ]
     },
     "execution_count": 19,
     "metadata": {},
     "output_type": "execute_result"
    }
   ],
   "source": [
    "# myt2 = myec2.Instance('i-05f52c6dad48d1fc5')\n",
    "myt2 = myec2.Instance('i-0284b0d2661051881')\n",
    "myt2.start()"
   ]
  },
  {
   "cell_type": "code",
   "execution_count": 4,
   "metadata": {},
   "outputs": [
    {
     "data": {
      "text/plain": [
       "{'TerminatingInstances': [{'CurrentState': {'Code': 48, 'Name': 'terminated'},\n",
       "   'InstanceId': 'i-05f52c6dad48d1fc5',\n",
       "   'PreviousState': {'Code': 80, 'Name': 'stopped'}}],\n",
       " 'ResponseMetadata': {'RequestId': 'e2100825-1990-46e3-a30d-038b4b100b62',\n",
       "  'HTTPStatusCode': 200,\n",
       "  'HTTPHeaders': {'content-type': 'text/xml;charset=UTF-8',\n",
       "   'transfer-encoding': 'chunked',\n",
       "   'vary': 'accept-encoding',\n",
       "   'date': 'Tue, 16 Jul 2019 18:28:26 GMT',\n",
       "   'server': 'AmazonEC2'},\n",
       "  'RetryAttempts': 0}}"
      ]
     },
     "execution_count": 4,
     "metadata": {},
     "output_type": "execute_result"
    }
   ],
   "source": [
    "# myt2.terminate()"
   ]
  },
  {
   "cell_type": "code",
   "execution_count": 21,
   "metadata": {},
   "outputs": [
    {
     "name": "stdout",
     "output_type": "stream",
     "text": [
      "{'Code': 16, 'Name': 'running'}\n",
      "InstanceId i-0284b0d2661051881\n",
      "Timestamp 2019-07-16 22:08:09+00:00\n",
      "ResponseMetadata\n"
     ]
    }
   ],
   "source": [
    "print(myt2.state)\n",
    "S_dict = myt2.console_output()\n",
    "for k, v in S_dict.items():\n",
    "    if k == 'Timestamp' or k == 'InstanceId':\n",
    "        print(k, v)\n",
    "    else:\n",
    "        print(k)"
   ]
  },
  {
   "cell_type": "code",
   "execution_count": 22,
   "metadata": {},
   "outputs": [
    {
     "name": "stdout",
     "output_type": "stream",
     "text": [
      "<class 'boto3.resources.factory.ec2.ServiceResource'> \n",
      "\n",
      "\n",
      "Name: {'State': 'disabled'}\n",
      "Id: i-0f91860560c05f3e0\n",
      "Platform: None\n",
      "Type: t2.2xlarge\n",
      "Public IPv4: None\n",
      "AMI: ami-0c55b159cbfafe1f0\n",
      "State: {'Code': 80, 'Name': 'stopped'}\n",
      "\n",
      "Name: {'State': 'disabled'}\n",
      "Id: i-032722d42b168e5ca\n",
      "Platform: None\n",
      "Type: t2.nano\n",
      "Public IPv4: None\n",
      "AMI: ami-0cf31d971a3ca20d6\n",
      "State: {'Code': 80, 'Name': 'stopped'}\n",
      "\n",
      "Name: {'State': 'disabled'}\n",
      "Id: i-045f15cc150ebb7b6\n",
      "Platform: None\n",
      "Type: c5d.large\n",
      "Public IPv4: None\n",
      "AMI: ami-09b2c3552ee7a8b53\n",
      "State: {'Code': 80, 'Name': 'stopped'}\n",
      "\n",
      "Name: {'State': 'disabled'}\n",
      "Id: i-07d0b05c453b849b8\n",
      "Platform: None\n",
      "Type: m4.xlarge\n",
      "Public IPv4: None\n",
      "AMI: ami-0a444079f17309e2a\n",
      "State: {'Code': 80, 'Name': 'stopped'}\n",
      "\n",
      "Name: {'State': 'disabled'}\n",
      "Id: i-08f6e90e0873c7da3\n",
      "Platform: None\n",
      "Type: t2.2xlarge\n",
      "Public IPv4: None\n",
      "AMI: ami-0b59bfac6be064b78\n",
      "State: {'Code': 80, 'Name': 'stopped'}\n",
      "\n",
      "Name: {'State': 'disabled'}\n",
      "Id: i-0a200342bfdc8da08\n",
      "Platform: None\n",
      "Type: m5d.4xlarge\n",
      "Public IPv4: None\n",
      "AMI: ami-043a27fab46b28d8e\n",
      "State: {'Code': 80, 'Name': 'stopped'}\n",
      "\n",
      "Name: {'State': 'disabled'}\n",
      "Id: i-0b76010d9eb6074d8\n",
      "Platform: None\n",
      "Type: t2.micro\n",
      "Public IPv4: None\n",
      "AMI: ami-0653e888ec96eab9b\n",
      "State: {'Code': 80, 'Name': 'stopped'}\n",
      "\n",
      "Name: {'State': 'disabled'}\n",
      "Id: i-0284b0d2661051881\n",
      "Platform: None\n",
      "Type: t2.micro\n",
      "Public IPv4: 18.217.65.201\n",
      "AMI: ami-054f44dd63ad34bb2\n",
      "State: {'Code': 16, 'Name': 'running'}\n",
      "\n",
      "Name: {'State': 'disabled'}\n",
      "Id: i-001b24ddc203de665\n",
      "Platform: None\n",
      "Type: t2.large\n",
      "Public IPv4: None\n",
      "AMI: ami-09a64272e7fe706b6\n",
      "State: {'Code': 80, 'Name': 'stopped'}\n",
      "\n",
      "Name: {'State': 'disabled'}\n",
      "Id: i-0d78d5c8f2e59123e\n",
      "Platform: None\n",
      "Type: t2.micro\n",
      "Public IPv4: None\n",
      "AMI: ami-0a0c6574ce16ce87a\n",
      "State: {'Code': 80, 'Name': 'stopped'}\n",
      "\n",
      "Name: {'State': 'disabled'}\n",
      "Id: i-08605b61ae390fa77\n",
      "Platform: None\n",
      "Type: t2.micro\n",
      "Public IPv4: None\n",
      "AMI: ami-0aa9ee1fc70e57450\n",
      "State: {'Code': 80, 'Name': 'stopped'}\n",
      "\n",
      "Name: {'State': 'disabled'}\n",
      "Id: i-0645745034d09d45b\n",
      "Platform: None\n",
      "Type: t2.micro\n",
      "Public IPv4: None\n",
      "AMI: ami-0351a163d5f20e068\n",
      "State: {'Code': 80, 'Name': 'stopped'}\n",
      "\n",
      "Name: {'State': 'disabled'}\n",
      "Id: i-09c2af6db7bfe5a29\n",
      "Platform: None\n",
      "Type: t2.2xlarge\n",
      "Public IPv4: None\n",
      "AMI: ami-0b59bfac6be064b78\n",
      "State: {'Code': 80, 'Name': 'stopped'}\n",
      "\n",
      "Name: {'State': 'disabled'}\n",
      "Id: i-0199716a04e0f0ec5\n",
      "Platform: None\n",
      "Type: m5.large\n",
      "Public IPv4: None\n",
      "AMI: ami-02f706d959cedf892\n",
      "State: {'Code': 80, 'Name': 'stopped'}\n",
      "\n",
      "Name: {'State': 'disabled'}\n",
      "Id: i-02630715636b487a9\n",
      "Platform: None\n",
      "Type: t2.xlarge\n",
      "Public IPv4: None\n",
      "AMI: ami-0b59bfac6be064b78\n",
      "State: {'Code': 80, 'Name': 'stopped'}\n",
      "\n"
     ]
    },
    {
     "data": {
      "text/plain": [
       "\"\\nec_2.Instance('i-00434b87058703892').stop()  #.start() #.reboot()\\n\""
      ]
     },
     "execution_count": 22,
     "metadata": {},
     "output_type": "execute_result"
    }
   ],
   "source": [
    "ec_2 = boto3.resource('ec2')\n",
    "print(type(ec_2),'\\n\\n')\n",
    "\n",
    "for instance in ec_2.instances.all():\n",
    "     print(\n",
    "         \"Name: {6}\\nId: {0}\\nPlatform: {1}\\nType: {2}\\nPublic IPv4: {3}\\nAMI: {4}\\nState: {5}\\n\".format(\n",
    "             instance.id, \n",
    "             instance.platform, \n",
    "             instance.instance_type, \n",
    "             instance.public_ip_address, \n",
    "             instance.image.id, \n",
    "             instance.state, instance.monitoring\n",
    "         )\n",
    "     )\n",
    "\"\"\"\n",
    "ec_2.Instance('i-00434b87058703892').stop()  #.start() #.reboot()\n",
    "\"\"\""
   ]
  },
  {
   "cell_type": "code",
   "execution_count": 32,
   "metadata": {},
   "outputs": [
    {
     "data": {
      "text/plain": [
       "ec2.KeyPairInfo(name='Name')"
      ]
     },
     "execution_count": 32,
     "metadata": {},
     "output_type": "execute_result"
    }
   ],
   "source": [
    "dakine = ec_2.KeyPair('Name')\n",
    "dakine"
   ]
  },
  {
   "cell_type": "code",
   "execution_count": null,
   "metadata": {},
   "outputs": [],
   "source": [
    "# .get_available_subresources()"
   ]
  },
  {
   "cell_type": "code",
   "execution_count": 13,
   "metadata": {},
   "outputs": [
    {
     "name": "stdout",
     "output_type": "stream",
     "text": [
      "{'Reservations': [{'Groups': [], 'Instances': [{'AmiLaunchIndex': 0, 'ImageId': 'ami-0c55b159cbfafe1f0', 'InstanceId': 'i-0f91860560c05f3e0', 'InstanceType': 't2.2xlarge', 'KeyName': 'aws_keys_aea', 'LaunchTime': datetime.datetime(2019, 5, 6, 11, 58, 29, tzinfo=tzutc()), 'Monitoring': {'State': 'disabled'}, 'Placement': {'AvailabilityZone': 'us-east-2b', 'GroupName': '', 'Tenancy': 'default'}, 'PrivateDnsName': 'ip-172-31-22-9.us-east-2.compute.internal', 'PrivateIpAddress': '172.31.22.9', 'ProductCodes': [], 'PublicDnsName': '', 'State': {'Code': 80, 'Name': 'stopped'}, 'StateTransitionReason': 'User initiated (2019-05-07 00:40:38 GMT)', 'SubnetId': 'subnet-de2d89a5', 'VpcId': 'vpc-00fd7369', 'Architecture': 'x86_64', 'BlockDeviceMappings': [{'DeviceName': '/dev/sda1', 'Ebs': {'AttachTime': datetime.datetime(2019, 5, 6, 11, 58, 30, tzinfo=tzutc()), 'DeleteOnTermination': True, 'Status': 'attached', 'VolumeId': 'vol-0df2ad29c940eefaa'}}], 'ClientToken': '', 'EbsOptimized': False, 'EnaSupport': True, 'Hypervisor': 'xen', 'NetworkInterfaces': [{'Attachment': {'AttachTime': datetime.datetime(2019, 5, 6, 11, 58, 29, tzinfo=tzutc()), 'AttachmentId': 'eni-attach-0d3284a271ec570d5', 'DeleteOnTermination': True, 'DeviceIndex': 0, 'Status': 'attached'}, 'Description': '', 'Groups': [{'GroupName': 'launch-wizard-36', 'GroupId': 'sg-09671a3c7c2ea24da'}], 'Ipv6Addresses': [], 'MacAddress': '06:1e:02:05:a0:ca', 'NetworkInterfaceId': 'eni-0ce9b85934ac1a14e', 'OwnerId': '214203888501', 'PrivateDnsName': 'ip-172-31-22-9.us-east-2.compute.internal', 'PrivateIpAddress': '172.31.22.9', 'PrivateIpAddresses': [{'Primary': True, 'PrivateDnsName': 'ip-172-31-22-9.us-east-2.compute.internal', 'PrivateIpAddress': '172.31.22.9'}], 'SourceDestCheck': True, 'Status': 'in-use', 'SubnetId': 'subnet-de2d89a5', 'VpcId': 'vpc-00fd7369', 'InterfaceType': 'interface'}], 'RootDeviceName': '/dev/sda1', 'RootDeviceType': 'ebs', 'SecurityGroups': [{'GroupName': 'launch-wizard-36', 'GroupId': 'sg-09671a3c7c2ea24da'}], 'SourceDestCheck': True, 'StateReason': {'Code': 'Client.UserInitiatedShutdown', 'Message': 'Client.UserInitiatedShutdown: User initiated shutdown'}, 'Tags': [{'Key': 'Name', 'Value': 'aea-nf-vs-wdl-machine'}], 'VirtualizationType': 'hvm', 'CpuOptions': {'CoreCount': 8, 'ThreadsPerCore': 1}, 'CapacityReservationSpecification': {'CapacityReservationPreference': 'open'}, 'HibernationOptions': {'Configured': False}}], 'OwnerId': '214203888501', 'ReservationId': 'r-0c0ed7e911c9c43ac'}, {'Groups': [], 'Instances': [{'AmiLaunchIndex': 0, 'ImageId': 'ami-0cf31d971a3ca20d6', 'InstanceId': 'i-032722d42b168e5ca', 'InstanceType': 't2.nano', 'KeyName': 'bhat_key_pair', 'LaunchTime': datetime.datetime(2019, 3, 7, 23, 45, 4, tzinfo=tzutc()), 'Monitoring': {'State': 'disabled'}, 'Placement': {'AvailabilityZone': 'us-east-2c', 'GroupName': '', 'Tenancy': 'default'}, 'PrivateDnsName': 'ip-172-31-37-35.us-east-2.compute.internal', 'PrivateIpAddress': '172.31.37.35', 'ProductCodes': [], 'PublicDnsName': '', 'State': {'Code': 80, 'Name': 'stopped'}, 'StateTransitionReason': 'User initiated (2019-03-07 23:46:36 GMT)', 'SubnetId': 'subnet-3a15e677', 'VpcId': 'vpc-00fd7369', 'Architecture': 'x86_64', 'BlockDeviceMappings': [{'DeviceName': '/dev/xvda', 'Ebs': {'AttachTime': datetime.datetime(2018, 9, 27, 4, 40, 40, tzinfo=tzutc()), 'DeleteOnTermination': True, 'Status': 'attached', 'VolumeId': 'vol-0fcefc4dc1a14fcd7'}}], 'ClientToken': '', 'EbsOptimized': False, 'EnaSupport': True, 'Hypervisor': 'xen', 'NetworkInterfaces': [{'Attachment': {'AttachTime': datetime.datetime(2018, 9, 27, 4, 40, 39, tzinfo=tzutc()), 'AttachmentId': 'eni-attach-0870b6bd748bd620f', 'DeleteOnTermination': True, 'DeviceIndex': 0, 'Status': 'attached'}, 'Description': '', 'Groups': [{'GroupName': 'launch-wizard-3', 'GroupId': 'sg-0d12c9ef5d07145b6'}], 'Ipv6Addresses': [], 'MacAddress': '0a:ba:fd:c5:af:98', 'NetworkInterfaceId': 'eni-03ddd30d522dd98a5', 'OwnerId': '214203888501', 'PrivateDnsName': 'ip-172-31-37-35.us-east-2.compute.internal', 'PrivateIpAddress': '172.31.37.35', 'PrivateIpAddresses': [{'Primary': True, 'PrivateDnsName': 'ip-172-31-37-35.us-east-2.compute.internal', 'PrivateIpAddress': '172.31.37.35'}], 'SourceDestCheck': True, 'Status': 'in-use', 'SubnetId': 'subnet-3a15e677', 'VpcId': 'vpc-00fd7369', 'InterfaceType': 'interface'}], 'RootDeviceName': '/dev/xvda', 'RootDeviceType': 'ebs', 'SecurityGroups': [{'GroupName': 'launch-wizard-3', 'GroupId': 'sg-0d12c9ef5d07145b6'}], 'SourceDestCheck': True, 'StateReason': {'Code': 'Client.UserInitiatedShutdown', 'Message': 'Client.UserInitiatedShutdown: User initiated shutdown'}, 'Tags': [{'Key': 'Name', 'Value': 'Tajesvi Bhat'}], 'VirtualizationType': 'hvm', 'CpuOptions': {'CoreCount': 1, 'ThreadsPerCore': 1}, 'CapacityReservationSpecification': {'CapacityReservationPreference': 'open'}, 'HibernationOptions': {'Configured': False}}], 'OwnerId': '214203888501', 'ReservationId': 'r-0e5f9382a04702077'}, {'Groups': [], 'Instances': [{'AmiLaunchIndex': 0, 'ImageId': 'ami-09b2c3552ee7a8b53', 'InstanceId': 'i-045f15cc150ebb7b6', 'InstanceType': 'c5d.large', 'KeyName': 'aws-test-2', 'LaunchTime': datetime.datetime(2018, 12, 6, 17, 55, 14, tzinfo=tzutc()), 'Monitoring': {'State': 'disabled'}, 'Placement': {'AvailabilityZone': 'us-east-2c', 'GroupName': '', 'Tenancy': 'default'}, 'PrivateDnsName': 'ip-172-31-41-232.us-east-2.compute.internal', 'PrivateIpAddress': '172.31.41.232', 'ProductCodes': [], 'PublicDnsName': '', 'State': {'Code': 80, 'Name': 'stopped'}, 'StateTransitionReason': 'User initiated (2019-01-15 22:50:36 GMT)', 'SubnetId': 'subnet-3a15e677', 'VpcId': 'vpc-00fd7369', 'Architecture': 'x86_64', 'BlockDeviceMappings': [{'DeviceName': '/dev/sda1', 'Ebs': {'AttachTime': datetime.datetime(2018, 12, 6, 17, 55, 14, tzinfo=tzutc()), 'DeleteOnTermination': True, 'Status': 'attached', 'VolumeId': 'vol-0f93cea9802d70156'}}], 'ClientToken': '154411891128431763', 'EbsOptimized': True, 'EnaSupport': True, 'Hypervisor': 'xen', 'NetworkInterfaces': [{'Attachment': {'AttachTime': datetime.datetime(2018, 12, 6, 17, 55, 14, tzinfo=tzutc()), 'AttachmentId': 'eni-attach-0bff5153f11da2d48', 'DeleteOnTermination': True, 'DeviceIndex': 0, 'Status': 'attached'}, 'Description': '', 'Groups': [{'GroupName': 'Deep Learning AMI -Ubuntu--19-0-AutogenByAWSMP-', 'GroupId': 'sg-090c0755587415c80'}], 'Ipv6Addresses': [], 'MacAddress': '0a:3c:47:30:94:e4', 'NetworkInterfaceId': 'eni-038a2698bb4bad16f', 'OwnerId': '214203888501', 'PrivateDnsName': 'ip-172-31-41-232.us-east-2.compute.internal', 'PrivateIpAddress': '172.31.41.232', 'PrivateIpAddresses': [{'Primary': True, 'PrivateDnsName': 'ip-172-31-41-232.us-east-2.compute.internal', 'PrivateIpAddress': '172.31.41.232'}], 'SourceDestCheck': True, 'Status': 'in-use', 'SubnetId': 'subnet-3a15e677', 'VpcId': 'vpc-00fd7369', 'InterfaceType': 'interface'}], 'RootDeviceName': '/dev/sda1', 'RootDeviceType': 'ebs', 'SecurityGroups': [{'GroupName': 'Deep Learning AMI -Ubuntu--19-0-AutogenByAWSMP-', 'GroupId': 'sg-090c0755587415c80'}], 'SourceDestCheck': True, 'StateReason': {'Code': 'Client.UserInitiatedShutdown', 'Message': 'Client.UserInitiatedShutdown: User initiated shutdown'}, 'Tags': [{'Key': 'Name', 'Value': ''}], 'VirtualizationType': 'hvm', 'CpuOptions': {'CoreCount': 1, 'ThreadsPerCore': 2}, 'CapacityReservationSpecification': {'CapacityReservationPreference': 'open'}, 'HibernationOptions': {'Configured': False}}], 'OwnerId': '214203888501', 'RequesterId': '086189789714', 'ReservationId': 'r-07ce6a67d62aaf611'}, {'Groups': [], 'Instances': [{'AmiLaunchIndex': 0, 'ImageId': 'ami-0a444079f17309e2a', 'InstanceId': 'i-07d0b05c453b849b8', 'InstanceType': 'm4.xlarge', 'KeyName': 'aws_keys_aea', 'LaunchTime': datetime.datetime(2019, 5, 11, 11, 50, 48, tzinfo=tzutc()), 'Monitoring': {'State': 'disabled'}, 'Placement': {'AvailabilityZone': 'us-east-2c', 'GroupName': '', 'Tenancy': 'default'}, 'PrivateDnsName': 'ip-172-31-40-208.us-east-2.compute.internal', 'PrivateIpAddress': '172.31.40.208', 'ProductCodes': [{'ProductCodeId': 'csv6h7oyg29b7epjzg7qdr7no', 'ProductCodeType': 'marketplace'}], 'PublicDnsName': '', 'State': {'Code': 80, 'Name': 'stopped'}, 'StateTransitionReason': 'User initiated (2019-05-11 15:17:38 GMT)', 'SubnetId': 'subnet-3a15e677', 'VpcId': 'vpc-00fd7369', 'Architecture': 'x86_64', 'BlockDeviceMappings': [{'DeviceName': '/dev/sda1', 'Ebs': {'AttachTime': datetime.datetime(2019, 5, 11, 11, 50, 49, tzinfo=tzutc()), 'DeleteOnTermination': True, 'Status': 'attached', 'VolumeId': 'vol-0ea7eb308d4078bba'}}], 'ClientToken': '155757542840994897', 'EbsOptimized': True, 'EnaSupport': True, 'Hypervisor': 'xen', 'NetworkInterfaces': [{'Attachment': {'AttachTime': datetime.datetime(2019, 5, 11, 11, 50, 48, tzinfo=tzutc()), 'AttachmentId': 'eni-attach-0648912f3a7a78656', 'DeleteOnTermination': True, 'DeviceIndex': 0, 'Status': 'attached'}, 'Description': '', 'Groups': [{'GroupName': 'Ubuntu 16-04 LTS - Xenial -HVM--Ubuntu 16-04 LTS 20190212-AutogenByAWSMP-', 'GroupId': 'sg-05d8795df3bea4bc7'}], 'Ipv6Addresses': [], 'MacAddress': '0a:47:30:16:98:66', 'NetworkInterfaceId': 'eni-081d3c89bb17aa5da', 'OwnerId': '214203888501', 'PrivateDnsName': 'ip-172-31-40-208.us-east-2.compute.internal', 'PrivateIpAddress': '172.31.40.208', 'PrivateIpAddresses': [{'Primary': True, 'PrivateDnsName': 'ip-172-31-40-208.us-east-2.compute.internal', 'PrivateIpAddress': '172.31.40.208'}], 'SourceDestCheck': True, 'Status': 'in-use', 'SubnetId': 'subnet-3a15e677', 'VpcId': 'vpc-00fd7369', 'InterfaceType': 'interface'}], 'RootDeviceName': '/dev/sda1', 'RootDeviceType': 'ebs', 'SecurityGroups': [{'GroupName': 'Ubuntu 16-04 LTS - Xenial -HVM--Ubuntu 16-04 LTS 20190212-AutogenByAWSMP-', 'GroupId': 'sg-05d8795df3bea4bc7'}], 'SourceDestCheck': True, 'StateReason': {'Code': 'Client.UserInitiatedShutdown', 'Message': 'Client.UserInitiatedShutdown: User initiated shutdown'}, 'Tags': [{'Key': 'Name', 'Value': 'aea-ubuntu-docker-java'}], 'VirtualizationType': 'hvm', 'CpuOptions': {'CoreCount': 2, 'ThreadsPerCore': 2}, 'CapacityReservationSpecification': {'CapacityReservationPreference': 'open'}, 'HibernationOptions': {'Configured': False}}], 'OwnerId': '214203888501', 'RequesterId': '086189789714', 'ReservationId': 'r-0613e26f46dd79668'}, {'Groups': [], 'Instances': [{'AmiLaunchIndex': 0, 'ImageId': 'ami-0b59bfac6be064b78', 'InstanceId': 'i-08f6e90e0873c7da3', 'InstanceType': 't2.2xlarge', 'KeyName': 'simulategenopheno', 'LaunchTime': datetime.datetime(2018, 11, 6, 22, 4, 48, tzinfo=tzutc()), 'Monitoring': {'State': 'disabled'}, 'Placement': {'AvailabilityZone': 'us-east-2a', 'GroupName': '', 'Tenancy': 'default'}, 'PrivateDnsName': 'ip-172-31-7-231.us-east-2.compute.internal', 'PrivateIpAddress': '172.31.7.231', 'ProductCodes': [], 'PublicDnsName': '', 'State': {'Code': 80, 'Name': 'stopped'}, 'StateTransitionReason': 'User initiated (2018-11-07 00:03:32 GMT)', 'SubnetId': 'subnet-cfff63a6', 'VpcId': 'vpc-00fd7369', 'Architecture': 'x86_64', 'BlockDeviceMappings': [{'DeviceName': '/dev/xvda', 'Ebs': {'AttachTime': datetime.datetime(2018, 11, 6, 22, 4, 49, tzinfo=tzutc()), 'DeleteOnTermination': True, 'Status': 'attached', 'VolumeId': 'vol-0283a2b656a40da4c'}}], 'ClientToken': '', 'EbsOptimized': False, 'EnaSupport': True, 'Hypervisor': 'xen', 'NetworkInterfaces': [{'Attachment': {'AttachTime': datetime.datetime(2018, 11, 6, 22, 4, 48, tzinfo=tzutc()), 'AttachmentId': 'eni-attach-0f5f7b3d718ad0fe5', 'DeleteOnTermination': True, 'DeviceIndex': 0, 'Status': 'attached'}, 'Description': '', 'Groups': [{'GroupName': 'launch-wizard-13', 'GroupId': 'sg-0bef1ad44fd704cab'}], 'Ipv6Addresses': [], 'MacAddress': '02:a0:1a:02:f3:3a', 'NetworkInterfaceId': 'eni-0f477eb05ca340384', 'OwnerId': '214203888501', 'PrivateDnsName': 'ip-172-31-7-231.us-east-2.compute.internal', 'PrivateIpAddress': '172.31.7.231', 'PrivateIpAddresses': [{'Primary': True, 'PrivateDnsName': 'ip-172-31-7-231.us-east-2.compute.internal', 'PrivateIpAddress': '172.31.7.231'}], 'SourceDestCheck': True, 'Status': 'in-use', 'SubnetId': 'subnet-cfff63a6', 'VpcId': 'vpc-00fd7369', 'InterfaceType': 'interface'}], 'RootDeviceName': '/dev/xvda', 'RootDeviceType': 'ebs', 'SecurityGroups': [{'GroupName': 'launch-wizard-13', 'GroupId': 'sg-0bef1ad44fd704cab'}], 'SourceDestCheck': True, 'StateReason': {'Code': 'Client.UserInitiatedShutdown', 'Message': 'Client.UserInitiatedShutdown: User initiated shutdown'}, 'Tags': [{'Key': 'Name', 'Value': 'Chandni Mathur'}], 'VirtualizationType': 'hvm', 'CpuOptions': {'CoreCount': 8, 'ThreadsPerCore': 1}, 'CapacityReservationSpecification': {'CapacityReservationPreference': 'open'}, 'HibernationOptions': {'Configured': False}}], 'OwnerId': '214203888501', 'ReservationId': 'r-0b6ee4827af5ebf7e'}, {'Groups': [], 'Instances': [{'AmiLaunchIndex': 0, 'ImageId': 'ami-0e40b8d5bc6a56a32', 'InstanceId': 'i-05f52c6dad48d1fc5', 'InstanceType': 't2.micro', 'LaunchTime': datetime.datetime(2019, 1, 3, 19, 13, 52, tzinfo=tzutc()), 'Monitoring': {'State': 'disabled'}, 'Placement': {'AvailabilityZone': 'us-east-2c', 'GroupName': '', 'Tenancy': 'default'}, 'PrivateDnsName': 'ip-172-31-35-182.us-east-2.compute.internal', 'PrivateIpAddress': '172.31.35.182', 'ProductCodes': [], 'PublicDnsName': '', 'State': {'Code': 80, 'Name': 'stopped'}, 'StateTransitionReason': 'User initiated', 'SubnetId': 'subnet-3a15e677', 'VpcId': 'vpc-00fd7369', 'Architecture': 'x86_64', 'BlockDeviceMappings': [{'DeviceName': '/dev/xvda', 'Ebs': {'AttachTime': datetime.datetime(2019, 1, 3, 16, 15, 52, tzinfo=tzutc()), 'DeleteOnTermination': True, 'Status': 'attached', 'VolumeId': 'vol-0902b9dbc5d865c55'}}], 'ClientToken': 'aws-c-Insta-Z9BRJXDJDVVR', 'EbsOptimized': False, 'EnaSupport': True, 'Hypervisor': 'xen', 'NetworkInterfaces': [{'Attachment': {'AttachTime': datetime.datetime(2019, 1, 3, 16, 15, 52, tzinfo=tzutc()), 'AttachmentId': 'eni-attach-01ffcffe0202e9e90', 'DeleteOnTermination': True, 'DeviceIndex': 0, 'Status': 'attached'}, 'Description': '', 'Groups': [{'GroupName': 'aws-cloud9-cloud9-4dakine-b73aa2e686044036a3cc24478b1adcfd-InstanceSecurityGroup-1F1REZOEJISWO', 'GroupId': 'sg-0a1c0ac402393f9be'}], 'Ipv6Addresses': [], 'MacAddress': '0a:1f:4f:4b:41:22', 'NetworkInterfaceId': 'eni-01cff0c6741d89473', 'OwnerId': '214203888501', 'PrivateDnsName': 'ip-172-31-35-182.us-east-2.compute.internal', 'PrivateIpAddress': '172.31.35.182', 'PrivateIpAddresses': [{'Primary': True, 'PrivateDnsName': 'ip-172-31-35-182.us-east-2.compute.internal', 'PrivateIpAddress': '172.31.35.182'}], 'SourceDestCheck': True, 'Status': 'in-use', 'SubnetId': 'subnet-3a15e677', 'VpcId': 'vpc-00fd7369', 'InterfaceType': 'interface'}], 'RootDeviceName': '/dev/xvda', 'RootDeviceType': 'ebs', 'SecurityGroups': [{'GroupName': 'aws-cloud9-cloud9-4dakine-b73aa2e686044036a3cc24478b1adcfd-InstanceSecurityGroup-1F1REZOEJISWO', 'GroupId': 'sg-0a1c0ac402393f9be'}], 'SourceDestCheck': True, 'StateReason': {'Code': 'Client.InstanceInitiatedShutdown', 'Message': 'Client.InstanceInitiatedShutdown: Instance initiated shutdown'}, 'Tags': [{'Key': 'aws:cloudformation:stack-id', 'Value': 'arn:aws:cloudformation:us-east-2:214203888501:stack/aws-cloud9-cloud9-4dakine-b73aa2e686044036a3cc24478b1adcfd/d0a678d0-0f72-11e9-a174-02a5f2ca138c'}, {'Key': 'aws:cloud9:environment', 'Value': 'b73aa2e686044036a3cc24478b1adcfd'}, {'Key': 'aws:cloudformation:logical-id', 'Value': 'Instance'}, {'Key': 'aws:cloud9:owner', 'Value': 'AIDAJAG55SWDT6DG65P66'}, {'Key': 'aws:cloudformation:stack-name', 'Value': 'aws-cloud9-cloud9-4dakine-b73aa2e686044036a3cc24478b1adcfd'}, {'Key': 'Name', 'Value': 'aws-cloud9-cloud9-4dakine-b73aa2e686044036a3cc24478b1adcfd'}], 'VirtualizationType': 'hvm', 'CpuOptions': {'CoreCount': 1, 'ThreadsPerCore': 1}, 'CapacityReservationSpecification': {'CapacityReservationPreference': 'open'}, 'HibernationOptions': {'Configured': False}}], 'OwnerId': '214203888501', 'RequesterId': '043320173835', 'ReservationId': 'r-0c053b61299b6e32c'}, {'Groups': [], 'Instances': [{'AmiLaunchIndex': 0, 'ImageId': 'ami-043a27fab46b28d8e', 'InstanceId': 'i-0a200342bfdc8da08', 'InstanceType': 'm5d.4xlarge', 'KeyName': 'AWS-laptop', 'LaunchTime': datetime.datetime(2019, 2, 6, 19, 57, 11, tzinfo=tzutc()), 'Monitoring': {'State': 'disabled'}, 'Placement': {'AvailabilityZone': 'us-east-2c', 'GroupName': '', 'Tenancy': 'default'}, 'PrivateDnsName': 'ip-172-31-32-8.us-east-2.compute.internal', 'PrivateIpAddress': '172.31.32.8', 'ProductCodes': [], 'PublicDnsName': '', 'State': {'Code': 80, 'Name': 'stopped'}, 'StateTransitionReason': 'User initiated (2019-06-27 18:54:48 GMT)', 'SubnetId': 'subnet-3a15e677', 'VpcId': 'vpc-00fd7369', 'Architecture': 'x86_64', 'BlockDeviceMappings': [{'DeviceName': '/dev/xvda', 'Ebs': {'AttachTime': datetime.datetime(2019, 2, 6, 19, 57, 12, tzinfo=tzutc()), 'DeleteOnTermination': True, 'Status': 'attached', 'VolumeId': 'vol-02a1c87e93518e399'}}, {'DeviceName': '/dev/xvdcz', 'Ebs': {'AttachTime': datetime.datetime(2019, 2, 6, 19, 57, 12, tzinfo=tzutc()), 'DeleteOnTermination': True, 'Status': 'attached', 'VolumeId': 'vol-09c7542aede2ee485'}}, {'DeviceName': '/dev/sdc', 'Ebs': {'AttachTime': datetime.datetime(2019, 2, 6, 19, 57, 12, tzinfo=tzutc()), 'DeleteOnTermination': True, 'Status': 'attached', 'VolumeId': 'vol-0bc8a262b8c9c0700'}}], 'ClientToken': '', 'EbsOptimized': True, 'EnaSupport': True, 'Hypervisor': 'xen', 'NetworkInterfaces': [{'Attachment': {'AttachTime': datetime.datetime(2019, 2, 6, 19, 57, 11, tzinfo=tzutc()), 'AttachmentId': 'eni-attach-052250968b5f459c3', 'DeleteOnTermination': True, 'DeviceIndex': 0, 'Status': 'attached'}, 'Description': '', 'Groups': [{'GroupName': 'launch-wizard-30', 'GroupId': 'sg-08010cc874ffc7e87'}], 'Ipv6Addresses': [], 'MacAddress': '0a:78:4c:67:92:a8', 'NetworkInterfaceId': 'eni-04f749b405f1d0a54', 'OwnerId': '214203888501', 'PrivateDnsName': 'ip-172-31-32-8.us-east-2.compute.internal', 'PrivateIpAddress': '172.31.32.8', 'PrivateIpAddresses': [{'Primary': True, 'PrivateDnsName': 'ip-172-31-32-8.us-east-2.compute.internal', 'PrivateIpAddress': '172.31.32.8'}], 'SourceDestCheck': True, 'Status': 'in-use', 'SubnetId': 'subnet-3a15e677', 'VpcId': 'vpc-00fd7369', 'InterfaceType': 'interface'}], 'RootDeviceName': '/dev/xvda', 'RootDeviceType': 'ebs', 'SecurityGroups': [{'GroupName': 'launch-wizard-30', 'GroupId': 'sg-08010cc874ffc7e87'}], 'SourceDestCheck': True, 'StateReason': {'Code': 'Client.UserInitiatedShutdown', 'Message': 'Client.UserInitiatedShutdown: User initiated shutdown'}, 'Tags': [{'Key': 'Name', 'Value': 'jallen'}], 'VirtualizationType': 'hvm', 'CpuOptions': {'CoreCount': 8, 'ThreadsPerCore': 2}, 'CapacityReservationSpecification': {'CapacityReservationPreference': 'open'}, 'HibernationOptions': {'Configured': False}}], 'OwnerId': '214203888501', 'ReservationId': 'r-051e02c1182bbb9ab'}, {'Groups': [], 'Instances': [{'AmiLaunchIndex': 0, 'ImageId': 'ami-0653e888ec96eab9b', 'InstanceId': 'i-0b76010d9eb6074d8', 'InstanceType': 't2.micro', 'KeyName': 'aws_keys_aea', 'LaunchTime': datetime.datetime(2019, 5, 8, 7, 42, 33, tzinfo=tzutc()), 'Monitoring': {'State': 'disabled'}, 'Placement': {'AvailabilityZone': 'us-east-2c', 'GroupName': '', 'Tenancy': 'default'}, 'PrivateDnsName': 'ip-172-31-44-233.us-east-2.compute.internal', 'PrivateIpAddress': '172.31.44.233', 'ProductCodes': [], 'PublicDnsName': '', 'State': {'Code': 80, 'Name': 'stopped'}, 'StateTransitionReason': 'User initiated (2019-05-11 07:33:56 GMT)', 'SubnetId': 'subnet-3a15e677', 'VpcId': 'vpc-00fd7369', 'Architecture': 'x86_64', 'BlockDeviceMappings': [], 'ClientToken': '', 'EbsOptimized': False, 'EnaSupport': True, 'Hypervisor': 'xen', 'NetworkInterfaces': [{'Attachment': {'AttachTime': datetime.datetime(2019, 3, 31, 7, 26, 26, tzinfo=tzutc()), 'AttachmentId': 'eni-attach-0dd9144b7dc2d835e', 'DeleteOnTermination': True, 'DeviceIndex': 0, 'Status': 'attached'}, 'Description': '', 'Groups': [{'GroupName': 'launch-wizard-7', 'GroupId': 'sg-0c3bad18fd2e3dddb'}], 'Ipv6Addresses': [], 'MacAddress': '0a:5b:20:62:f4:98', 'NetworkInterfaceId': 'eni-070b9bd8f855e53ed', 'OwnerId': '214203888501', 'PrivateDnsName': 'ip-172-31-44-233.us-east-2.compute.internal', 'PrivateIpAddress': '172.31.44.233', 'PrivateIpAddresses': [{'Primary': True, 'PrivateDnsName': 'ip-172-31-44-233.us-east-2.compute.internal', 'PrivateIpAddress': '172.31.44.233'}], 'SourceDestCheck': True, 'Status': 'in-use', 'SubnetId': 'subnet-3a15e677', 'VpcId': 'vpc-00fd7369', 'InterfaceType': 'interface'}], 'RootDeviceName': '/dev/sda1', 'RootDeviceType': 'ebs', 'SecurityGroups': [{'GroupName': 'launch-wizard-7', 'GroupId': 'sg-0c3bad18fd2e3dddb'}], 'SourceDestCheck': True, 'StateReason': {'Code': 'Client.UserInitiatedShutdown', 'Message': 'Client.UserInitiatedShutdown: User initiated shutdown'}, 'Tags': [{'Key': 'Name', 'Value': 'aea_test_instance'}], 'VirtualizationType': 'hvm', 'CpuOptions': {'CoreCount': 1, 'ThreadsPerCore': 1}, 'CapacityReservationSpecification': {'CapacityReservationPreference': 'open'}, 'HibernationOptions': {'Configured': False}}], 'OwnerId': '214203888501', 'ReservationId': 'r-07eb2f49ea00a0a48'}, {'Groups': [], 'Instances': [{'AmiLaunchIndex': 0, 'ImageId': 'ami-054f44dd63ad34bb2', 'InstanceId': 'i-0284b0d2661051881', 'InstanceType': 't2.micro', 'LaunchTime': datetime.datetime(2019, 4, 3, 19, 39, 24, tzinfo=tzutc()), 'Monitoring': {'State': 'disabled'}, 'Placement': {'AvailabilityZone': 'us-east-2c', 'GroupName': '', 'Tenancy': 'default'}, 'PrivateDnsName': 'ip-172-31-40-76.us-east-2.compute.internal', 'PrivateIpAddress': '172.31.40.76', 'ProductCodes': [], 'PublicDnsName': '', 'State': {'Code': 80, 'Name': 'stopped'}, 'StateTransitionReason': 'User initiated', 'SubnetId': 'subnet-3a15e677', 'VpcId': 'vpc-00fd7369', 'Architecture': 'x86_64', 'BlockDeviceMappings': [{'DeviceName': '/dev/xvda', 'Ebs': {'AttachTime': datetime.datetime(2019, 4, 3, 19, 39, 24, tzinfo=tzutc()), 'DeleteOnTermination': True, 'Status': 'attached', 'VolumeId': 'vol-0b9ebf53b85baaf9a'}}], 'ClientToken': 'aws-c-Insta-14ITSNVFEO9VG', 'EbsOptimized': False, 'EnaSupport': True, 'Hypervisor': 'xen', 'NetworkInterfaces': [{'Attachment': {'AttachTime': datetime.datetime(2019, 4, 3, 19, 39, 24, tzinfo=tzutc()), 'AttachmentId': 'eni-attach-02384fafd5578df5d', 'DeleteOnTermination': True, 'DeviceIndex': 0, 'Status': 'attached'}, 'Description': '', 'Groups': [{'GroupName': 'aws-cloud9-Cloud9Tutorial-e35f2d536ce64461a164f5be5f1703ed-InstanceSecurityGroup-1DSER2K2Q72NZ', 'GroupId': 'sg-004a348774c94c4d9'}], 'Ipv6Addresses': [], 'MacAddress': '0a:c4:b1:79:e7:ae', 'NetworkInterfaceId': 'eni-079d630c1ec9c81da', 'OwnerId': '214203888501', 'PrivateDnsName': 'ip-172-31-40-76.us-east-2.compute.internal', 'PrivateIpAddress': '172.31.40.76', 'PrivateIpAddresses': [{'Primary': True, 'PrivateDnsName': 'ip-172-31-40-76.us-east-2.compute.internal', 'PrivateIpAddress': '172.31.40.76'}], 'SourceDestCheck': True, 'Status': 'in-use', 'SubnetId': 'subnet-3a15e677', 'VpcId': 'vpc-00fd7369', 'InterfaceType': 'interface'}], 'RootDeviceName': '/dev/xvda', 'RootDeviceType': 'ebs', 'SecurityGroups': [{'GroupName': 'aws-cloud9-Cloud9Tutorial-e35f2d536ce64461a164f5be5f1703ed-InstanceSecurityGroup-1DSER2K2Q72NZ', 'GroupId': 'sg-004a348774c94c4d9'}], 'SourceDestCheck': True, 'StateReason': {'Code': 'Client.InstanceInitiatedShutdown', 'Message': 'Client.InstanceInitiatedShutdown: Instance initiated shutdown'}, 'Tags': [{'Key': 'aws:cloudformation:stack-name', 'Value': 'aws-cloud9-Cloud9Tutorial-e35f2d536ce64461a164f5be5f1703ed'}, {'Key': 'aws:cloud9:environment', 'Value': 'e35f2d536ce64461a164f5be5f1703ed'}, {'Key': 'Name', 'Value': 'aws-cloud9-Cloud9Tutorial-e35f2d536ce64461a164f5be5f1703ed'}, {'Key': 'aws:cloud9:owner', 'Value': 'AIDAJ742IWSY226VFTPGO'}, {'Key': 'aws:cloudformation:stack-id', 'Value': 'arn:aws:cloudformation:us-east-2:214203888501:stack/aws-cloud9-Cloud9Tutorial-e35f2d536ce64461a164f5be5f1703ed/27291a70-5648-11e9-b478-0aedd1bf2484'}, {'Key': 'aws:cloudformation:logical-id', 'Value': 'Instance'}], 'VirtualizationType': 'hvm', 'CpuOptions': {'CoreCount': 1, 'ThreadsPerCore': 1}, 'CapacityReservationSpecification': {'CapacityReservationPreference': 'open'}, 'HibernationOptions': {'Configured': False}}], 'OwnerId': '214203888501', 'RequesterId': '043320173835', 'ReservationId': 'r-03739f6fe2d0c598c'}, {'Groups': [], 'Instances': [{'AmiLaunchIndex': 0, 'ImageId': 'ami-09a64272e7fe706b6', 'InstanceId': 'i-001b24ddc203de665', 'InstanceType': 't2.large', 'LaunchTime': datetime.datetime(2018, 10, 16, 21, 22, 48, tzinfo=tzutc()), 'Monitoring': {'State': 'disabled'}, 'Placement': {'AvailabilityZone': 'us-east-2a', 'GroupName': '', 'Tenancy': 'default'}, 'PrivateDnsName': 'ip-10-192-10-96.us-east-2.compute.internal', 'PrivateIpAddress': '10.192.10.96', 'ProductCodes': [], 'PublicDnsName': '', 'State': {'Code': 80, 'Name': 'stopped'}, 'StateTransitionReason': '', 'SubnetId': 'subnet-001175a2baf2e1f2a', 'VpcId': 'vpc-0994e4fae89479824', 'Architecture': 'x86_64', 'BlockDeviceMappings': [{'DeviceName': '/dev/xvda', 'Ebs': {'AttachTime': datetime.datetime(2018, 10, 16, 21, 22, 48, tzinfo=tzutc()), 'DeleteOnTermination': True, 'Status': 'attached', 'VolumeId': 'vol-062cb1abae7d106c1'}}, {'DeviceName': '/dev/sdc', 'Ebs': {'AttachTime': datetime.datetime(2018, 10, 16, 21, 22, 48, tzinfo=tzutc()), 'DeleteOnTermination': True, 'Status': 'attached', 'VolumeId': 'vol-0c3107de006b7ed87'}}, {'DeviceName': '/dev/xvdcz', 'Ebs': {'AttachTime': datetime.datetime(2018, 10, 16, 21, 22, 48, tzinfo=tzutc()), 'DeleteOnTermination': True, 'Status': 'attached', 'VolumeId': 'vol-013314223c6ac2424'}}], 'ClientToken': 'Genom-EC2In-VQ2MVVDLMBJ', 'EbsOptimized': False, 'EnaSupport': True, 'Hypervisor': 'xen', 'NetworkInterfaces': [{'Attachment': {'AttachTime': datetime.datetime(2018, 10, 16, 21, 22, 48, tzinfo=tzutc()), 'AttachmentId': 'eni-attach-05f0125ba75c2517b', 'DeleteOnTermination': True, 'DeviceIndex': 0, 'Status': 'attached'}, 'Description': '', 'Groups': [{'GroupName': 'GenomicsWorkflow-AMI-EC2SecurityGroup-1PFQATM9D7X1B', 'GroupId': 'sg-0ec2370fcbc84b017'}], 'Ipv6Addresses': [], 'MacAddress': '02:14:03:83:21:c0', 'NetworkInterfaceId': 'eni-0245c2d1f64af3ede', 'OwnerId': '214203888501', 'PrivateDnsName': 'ip-10-192-10-96.us-east-2.compute.internal', 'PrivateIpAddress': '10.192.10.96', 'PrivateIpAddresses': [{'Primary': True, 'PrivateDnsName': 'ip-10-192-10-96.us-east-2.compute.internal', 'PrivateIpAddress': '10.192.10.96'}], 'SourceDestCheck': True, 'Status': 'in-use', 'SubnetId': 'subnet-001175a2baf2e1f2a', 'VpcId': 'vpc-0994e4fae89479824', 'InterfaceType': 'interface'}], 'RootDeviceName': '/dev/xvda', 'RootDeviceType': 'ebs', 'SecurityGroups': [{'GroupName': 'GenomicsWorkflow-AMI-EC2SecurityGroup-1PFQATM9D7X1B', 'GroupId': 'sg-0ec2370fcbc84b017'}], 'SourceDestCheck': True, 'StateReason': {'Code': 'Client.InstanceInitiatedShutdown', 'Message': 'Client.InstanceInitiatedShutdown: Instance initiated shutdown'}, 'Tags': [{'Key': 'Name', 'Value': 'genomics-base-ami'}, {'Key': 'aws:cloudformation:logical-id', 'Value': 'EC2Instance'}, {'Key': 'aws:cloudformation:stack-name', 'Value': 'GenomicsWorkflow-AMI'}, {'Key': 'aws:cloudformation:stack-id', 'Value': 'arn:aws:cloudformation:us-east-2:214203888501:stack/GenomicsWorkflow-AMI/88053ed0-d189-11e8-977c-0a981112be0e'}], 'VirtualizationType': 'hvm', 'CpuOptions': {'CoreCount': 2, 'ThreadsPerCore': 1}, 'CapacityReservationSpecification': {'CapacityReservationPreference': 'open'}, 'HibernationOptions': {'Configured': False}}], 'OwnerId': '214203888501', 'RequesterId': '043320173835', 'ReservationId': 'r-074a8deca0c2d8754'}, {'Groups': [], 'Instances': [{'AmiLaunchIndex': 0, 'ImageId': 'ami-0a0c6574ce16ce87a', 'InstanceId': 'i-0d78d5c8f2e59123e', 'InstanceType': 't2.micro', 'KeyName': 'genomics-ami', 'LaunchTime': datetime.datetime(2018, 10, 18, 20, 15, 5, tzinfo=tzutc()), 'Monitoring': {'State': 'disabled'}, 'Placement': {'AvailabilityZone': 'us-east-2b', 'GroupName': '', 'Tenancy': 'default'}, 'PrivateDnsName': 'ip-172-31-23-221.us-east-2.compute.internal', 'PrivateIpAddress': '172.31.23.221', 'ProductCodes': [], 'PublicDnsName': '', 'State': {'Code': 80, 'Name': 'stopped'}, 'StateTransitionReason': 'User initiated (2018-10-19 00:45:19 GMT)', 'SubnetId': 'subnet-de2d89a5', 'VpcId': 'vpc-00fd7369', 'Architecture': 'x86_64', 'BlockDeviceMappings': [{'DeviceName': '/dev/xvda', 'Ebs': {'AttachTime': datetime.datetime(2018, 10, 18, 20, 15, 5, tzinfo=tzutc()), 'DeleteOnTermination': True, 'Status': 'attached', 'VolumeId': 'vol-06b22b0ade37f1711'}}, {'DeviceName': '/dev/xvdcz', 'Ebs': {'AttachTime': datetime.datetime(2018, 10, 18, 20, 15, 5, tzinfo=tzutc()), 'DeleteOnTermination': True, 'Status': 'attached', 'VolumeId': 'vol-02aa95827b55daba0'}}, {'DeviceName': '/dev/sdc', 'Ebs': {'AttachTime': datetime.datetime(2018, 10, 18, 20, 15, 5, tzinfo=tzutc()), 'DeleteOnTermination': True, 'Status': 'attached', 'VolumeId': 'vol-0f4e0e87defe97a57'}}], 'ClientToken': '', 'EbsOptimized': False, 'EnaSupport': True, 'Hypervisor': 'xen', 'NetworkInterfaces': [{'Attachment': {'AttachTime': datetime.datetime(2018, 10, 18, 20, 15, 5, tzinfo=tzutc()), 'AttachmentId': 'eni-attach-0fba0934c3c491f7f', 'DeleteOnTermination': True, 'DeviceIndex': 0, 'Status': 'attached'}, 'Description': '', 'Groups': [{'GroupName': 'GenomicsAmiSG-subnet-de2d89a5', 'GroupId': 'sg-068b2274d64067170'}], 'Ipv6Addresses': [], 'MacAddress': '06:cb:c6:d5:6c:dc', 'NetworkInterfaceId': 'eni-01e5f3a5eba0a7b19', 'OwnerId': '214203888501', 'PrivateDnsName': 'ip-172-31-23-221.us-east-2.compute.internal', 'PrivateIpAddress': '172.31.23.221', 'PrivateIpAddresses': [{'Primary': True, 'PrivateDnsName': 'ip-172-31-23-221.us-east-2.compute.internal', 'PrivateIpAddress': '172.31.23.221'}], 'SourceDestCheck': True, 'Status': 'in-use', 'SubnetId': 'subnet-de2d89a5', 'VpcId': 'vpc-00fd7369', 'InterfaceType': 'interface'}], 'RootDeviceName': '/dev/xvda', 'RootDeviceType': 'ebs', 'SecurityGroups': [{'GroupName': 'GenomicsAmiSG-subnet-de2d89a5', 'GroupId': 'sg-068b2274d64067170'}], 'SourceDestCheck': True, 'StateReason': {'Code': 'Client.UserInitiatedShutdown', 'Message': 'Client.UserInitiatedShutdown: User initiated shutdown'}, 'VirtualizationType': 'hvm', 'CpuOptions': {'CoreCount': 1, 'ThreadsPerCore': 1}, 'CapacityReservationSpecification': {'CapacityReservationPreference': 'open'}, 'HibernationOptions': {'Configured': False}}], 'OwnerId': '214203888501', 'ReservationId': 'r-01b92ca34309c1fa4'}, {'Groups': [], 'Instances': [{'AmiLaunchIndex': 0, 'ImageId': 'ami-0aa9ee1fc70e57450', 'InstanceId': 'i-08605b61ae390fa77', 'InstanceType': 't2.micro', 'KeyName': 'aws_keys_aea', 'LaunchTime': datetime.datetime(2019, 4, 8, 23, 14, 9, tzinfo=tzutc()), 'Monitoring': {'State': 'disabled'}, 'Placement': {'AvailabilityZone': 'us-east-2c', 'GroupName': '', 'Tenancy': 'default'}, 'PrivateDnsName': 'ip-172-31-37-197.us-east-2.compute.internal', 'PrivateIpAddress': '172.31.37.197', 'ProductCodes': [], 'PublicDnsName': '', 'State': {'Code': 80, 'Name': 'stopped'}, 'StateTransitionReason': 'User initiated (2019-05-06 10:42:02 GMT)', 'SubnetId': 'subnet-3a15e677', 'VpcId': 'vpc-00fd7369', 'Architecture': 'x86_64', 'BlockDeviceMappings': [{'DeviceName': '/dev/xvda', 'Ebs': {'AttachTime': datetime.datetime(2019, 4, 8, 23, 14, 10, tzinfo=tzutc()), 'DeleteOnTermination': True, 'Status': 'attached', 'VolumeId': 'vol-0e84fa9db38d7eee2'}}], 'ClientToken': '', 'EbsOptimized': False, 'EnaSupport': True, 'Hypervisor': 'xen', 'NetworkInterfaces': [{'Attachment': {'AttachTime': datetime.datetime(2019, 4, 8, 23, 14, 9, tzinfo=tzutc()), 'AttachmentId': 'eni-attach-07deca10738a2eed1', 'DeleteOnTermination': True, 'DeviceIndex': 0, 'Status': 'attached'}, 'Description': '', 'Groups': [{'GroupName': 'launch-wizard-35', 'GroupId': 'sg-05e336701231ce7fe'}], 'Ipv6Addresses': [], 'MacAddress': '0a:22:e6:4f:a9:46', 'NetworkInterfaceId': 'eni-0fcd4c66969dee101', 'OwnerId': '214203888501', 'PrivateDnsName': 'ip-172-31-37-197.us-east-2.compute.internal', 'PrivateIpAddress': '172.31.37.197', 'PrivateIpAddresses': [{'Primary': True, 'PrivateDnsName': 'ip-172-31-37-197.us-east-2.compute.internal', 'PrivateIpAddress': '172.31.37.197'}], 'SourceDestCheck': True, 'Status': 'in-use', 'SubnetId': 'subnet-3a15e677', 'VpcId': 'vpc-00fd7369', 'InterfaceType': 'interface'}], 'RootDeviceName': '/dev/xvda', 'RootDeviceType': 'ebs', 'SecurityGroups': [{'GroupName': 'launch-wizard-35', 'GroupId': 'sg-05e336701231ce7fe'}], 'SourceDestCheck': True, 'StateReason': {'Code': 'Client.UserInitiatedShutdown', 'Message': 'Client.UserInitiatedShutdown: User initiated shutdown'}, 'VirtualizationType': 'hvm', 'CpuOptions': {'CoreCount': 1, 'ThreadsPerCore': 1}, 'CapacityReservationSpecification': {'CapacityReservationPreference': 'open'}, 'HibernationOptions': {'Configured': False}}], 'OwnerId': '214203888501', 'ReservationId': 'r-0be25949e849f4377'}, {'Groups': [], 'Instances': [{'AmiLaunchIndex': 0, 'ImageId': 'ami-0351a163d5f20e068', 'InstanceId': 'i-0645745034d09d45b', 'InstanceType': 't2.micro', 'KeyName': 'aws_keys_aea', 'LaunchTime': datetime.datetime(2019, 5, 11, 9, 44, 45, tzinfo=tzutc()), 'Monitoring': {'State': 'disabled'}, 'Placement': {'AvailabilityZone': 'us-east-2b', 'GroupName': '', 'Tenancy': 'default'}, 'PrivateDnsName': 'ip-172-31-29-223.us-east-2.compute.internal', 'PrivateIpAddress': '172.31.29.223', 'ProductCodes': [], 'PublicDnsName': '', 'State': {'Code': 80, 'Name': 'stopped'}, 'StateTransitionReason': 'User initiated (2019-05-11 12:05:06 GMT)', 'SubnetId': 'subnet-de2d89a5', 'VpcId': 'vpc-00fd7369', 'Architecture': 'x86_64', 'BlockDeviceMappings': [{'DeviceName': '/dev/xvda', 'Ebs': {'AttachTime': datetime.datetime(2019, 5, 11, 9, 44, 45, tzinfo=tzutc()), 'DeleteOnTermination': True, 'Status': 'attached', 'VolumeId': 'vol-0bac229d441dcfccf'}}, {'DeviceName': '/dev/xvdcz', 'Ebs': {'AttachTime': datetime.datetime(2019, 5, 11, 9, 44, 45, tzinfo=tzutc()), 'DeleteOnTermination': True, 'Status': 'attached', 'VolumeId': 'vol-0131b959d4b83fd83'}}], 'ClientToken': '155756788249769331', 'EbsOptimized': False, 'EnaSupport': True, 'Hypervisor': 'xen', 'NetworkInterfaces': [{'Attachment': {'AttachTime': datetime.datetime(2019, 5, 11, 9, 44, 45, tzinfo=tzutc()), 'AttachmentId': 'eni-attach-01af5a6ca0629dfe5', 'DeleteOnTermination': True, 'DeviceIndex': 0, 'Status': 'attached'}, 'Description': '', 'Groups': [{'GroupName': 'Amazon ECS-Optimized Amazon Linux AMI-2019-04-04-AutogenByAWSMP-', 'GroupId': 'sg-0c6c177e187f8e020'}], 'Ipv6Addresses': [], 'MacAddress': '06:ee:71:ed:15:ca', 'NetworkInterfaceId': 'eni-056698ac5789d2fb3', 'OwnerId': '214203888501', 'PrivateDnsName': 'ip-172-31-29-223.us-east-2.compute.internal', 'PrivateIpAddress': '172.31.29.223', 'PrivateIpAddresses': [{'Primary': True, 'PrivateDnsName': 'ip-172-31-29-223.us-east-2.compute.internal', 'PrivateIpAddress': '172.31.29.223'}], 'SourceDestCheck': True, 'Status': 'in-use', 'SubnetId': 'subnet-de2d89a5', 'VpcId': 'vpc-00fd7369', 'InterfaceType': 'interface'}], 'RootDeviceName': '/dev/xvda', 'RootDeviceType': 'ebs', 'SecurityGroups': [{'GroupName': 'Amazon ECS-Optimized Amazon Linux AMI-2019-04-04-AutogenByAWSMP-', 'GroupId': 'sg-0c6c177e187f8e020'}], 'SourceDestCheck': True, 'StateReason': {'Code': 'Client.UserInitiatedShutdown', 'Message': 'Client.UserInitiatedShutdown: User initiated shutdown'}, 'Tags': [{'Key': 'Name', 'Value': 'aea-nf-ami'}], 'VirtualizationType': 'hvm', 'CpuOptions': {'CoreCount': 1, 'ThreadsPerCore': 1}, 'CapacityReservationSpecification': {'CapacityReservationPreference': 'open'}, 'HibernationOptions': {'Configured': False}}], 'OwnerId': '214203888501', 'RequesterId': '086189789714', 'ReservationId': 'r-082d61b3f72e2b5cf'}, {'Groups': [], 'Instances': [{'AmiLaunchIndex': 0, 'ImageId': 'ami-0b59bfac6be064b78', 'InstanceId': 'i-09c2af6db7bfe5a29', 'InstanceType': 't2.2xlarge', 'KeyName': 'bhat_key_pair', 'LaunchTime': datetime.datetime(2019, 5, 17, 19, 2, 52, tzinfo=tzutc()), 'Monitoring': {'State': 'disabled'}, 'Placement': {'AvailabilityZone': 'us-east-2a', 'GroupName': '', 'Tenancy': 'default'}, 'PrivateDnsName': 'ip-172-31-10-125.us-east-2.compute.internal', 'PrivateIpAddress': '172.31.10.125', 'ProductCodes': [], 'PublicDnsName': '', 'State': {'Code': 80, 'Name': 'stopped'}, 'StateTransitionReason': 'User initiated (2019-05-17 23:29:31 GMT)', 'SubnetId': 'subnet-cfff63a6', 'VpcId': 'vpc-00fd7369', 'Architecture': 'x86_64', 'BlockDeviceMappings': [{'DeviceName': '/dev/xvda', 'Ebs': {'AttachTime': datetime.datetime(2018, 11, 2, 20, 13, 36, tzinfo=tzutc()), 'DeleteOnTermination': True, 'Status': 'attached', 'VolumeId': 'vol-002bfccaff7e9d9e2'}}], 'ClientToken': '', 'EbsOptimized': False, 'EnaSupport': True, 'Hypervisor': 'xen', 'NetworkInterfaces': [{'Attachment': {'AttachTime': datetime.datetime(2018, 11, 2, 20, 13, 35, tzinfo=tzutc()), 'AttachmentId': 'eni-attach-09f606d436680172f', 'DeleteOnTermination': True, 'DeviceIndex': 0, 'Status': 'attached'}, 'Description': '', 'Groups': [{'GroupName': 'licsrvr', 'GroupId': 'sg-0604c4d0fd2b3c7b4'}, {'GroupName': 'launch-wizard-7', 'GroupId': 'sg-0c3bad18fd2e3dddb'}], 'Ipv6Addresses': [], 'MacAddress': '02:31:2e:ad:57:00', 'NetworkInterfaceId': 'eni-050e71f983056662f', 'OwnerId': '214203888501', 'PrivateDnsName': 'ip-172-31-10-125.us-east-2.compute.internal', 'PrivateIpAddress': '172.31.10.125', 'PrivateIpAddresses': [{'Primary': True, 'PrivateDnsName': 'ip-172-31-10-125.us-east-2.compute.internal', 'PrivateIpAddress': '172.31.10.125'}], 'SourceDestCheck': True, 'Status': 'in-use', 'SubnetId': 'subnet-cfff63a6', 'VpcId': 'vpc-00fd7369', 'InterfaceType': 'interface'}], 'RootDeviceName': '/dev/xvda', 'RootDeviceType': 'ebs', 'SecurityGroups': [{'GroupName': 'licsrvr', 'GroupId': 'sg-0604c4d0fd2b3c7b4'}, {'GroupName': 'launch-wizard-7', 'GroupId': 'sg-0c3bad18fd2e3dddb'}], 'SourceDestCheck': True, 'StateReason': {'Code': 'Client.UserInitiatedShutdown', 'Message': 'Client.UserInitiatedShutdown: User initiated shutdown'}, 'Tags': [{'Key': 'Name', 'Value': 'tbhat_license'}], 'VirtualizationType': 'hvm', 'CpuOptions': {'CoreCount': 8, 'ThreadsPerCore': 1}, 'CapacityReservationSpecification': {'CapacityReservationPreference': 'open'}, 'HibernationOptions': {'Configured': False}}], 'OwnerId': '214203888501', 'ReservationId': 'r-0fe08e82a0a8aa379'}, {'Groups': [], 'Instances': [{'AmiLaunchIndex': 0, 'ImageId': 'ami-02f706d959cedf892', 'InstanceId': 'i-0199716a04e0f0ec5', 'InstanceType': 'm5.large', 'KeyName': 'rawlanikeypair', 'LaunchTime': datetime.datetime(2019, 7, 3, 17, 10, 36, tzinfo=tzutc()), 'Monitoring': {'State': 'disabled'}, 'Placement': {'AvailabilityZone': 'us-east-2b', 'GroupName': '', 'Tenancy': 'default'}, 'PrivateDnsName': 'ip-172-31-25-137.us-east-2.compute.internal', 'PrivateIpAddress': '172.31.25.137', 'ProductCodes': [], 'PublicDnsName': '', 'State': {'Code': 80, 'Name': 'stopped'}, 'StateTransitionReason': 'User initiated (2019-07-03 17:21:12 GMT)', 'SubnetId': 'subnet-de2d89a5', 'VpcId': 'vpc-00fd7369', 'Architecture': 'x86_64', 'BlockDeviceMappings': [{'DeviceName': '/dev/xvda', 'Ebs': {'AttachTime': datetime.datetime(2019, 7, 3, 17, 10, 37, tzinfo=tzutc()), 'DeleteOnTermination': True, 'Status': 'attached', 'VolumeId': 'vol-0f9fd959c85cd0e64'}}], 'ClientToken': '', 'EbsOptimized': True, 'EnaSupport': True, 'Hypervisor': 'xen', 'NetworkInterfaces': [{'Attachment': {'AttachTime': datetime.datetime(2019, 7, 3, 17, 10, 36, tzinfo=tzutc()), 'AttachmentId': 'eni-attach-02358d43a6c1ec0ab', 'DeleteOnTermination': True, 'DeviceIndex': 0, 'Status': 'attached'}, 'Description': '', 'Groups': [{'GroupName': 'launch-wizard-37', 'GroupId': 'sg-020949b75166e7266'}], 'Ipv6Addresses': [], 'MacAddress': '06:60:69:54:bc:7c', 'NetworkInterfaceId': 'eni-0313c8a04dc4ee6b4', 'OwnerId': '214203888501', 'PrivateDnsName': 'ip-172-31-25-137.us-east-2.compute.internal', 'PrivateIpAddress': '172.31.25.137', 'PrivateIpAddresses': [{'Primary': True, 'PrivateDnsName': 'ip-172-31-25-137.us-east-2.compute.internal', 'PrivateIpAddress': '172.31.25.137'}], 'SourceDestCheck': True, 'Status': 'in-use', 'SubnetId': 'subnet-de2d89a5', 'VpcId': 'vpc-00fd7369', 'InterfaceType': 'interface'}], 'RootDeviceName': '/dev/xvda', 'RootDeviceType': 'ebs', 'SecurityGroups': [{'GroupName': 'launch-wizard-37', 'GroupId': 'sg-020949b75166e7266'}], 'SourceDestCheck': True, 'StateReason': {'Code': 'Client.UserInitiatedShutdown', 'Message': 'Client.UserInitiatedShutdown: User initiated shutdown'}, 'VirtualizationType': 'hvm', 'CpuOptions': {'CoreCount': 1, 'ThreadsPerCore': 2}, 'CapacityReservationSpecification': {'CapacityReservationPreference': 'open'}, 'HibernationOptions': {'Configured': False}}], 'OwnerId': '214203888501', 'ReservationId': 'r-0b29b3bba11e7e5c9'}, {'Groups': [], 'Instances': [{'AmiLaunchIndex': 0, 'ImageId': 'ami-0b59bfac6be064b78', 'InstanceId': 'i-02630715636b487a9', 'InstanceType': 't2.xlarge', 'KeyName': 'bhat_key_pair', 'LaunchTime': datetime.datetime(2018, 11, 2, 19, 48, 36, tzinfo=tzutc()), 'Monitoring': {'State': 'disabled'}, 'Placement': {'AvailabilityZone': 'us-east-2a', 'GroupName': '', 'Tenancy': 'default'}, 'PrivateDnsName': 'ip-172-31-7-124.us-east-2.compute.internal', 'PrivateIpAddress': '172.31.7.124', 'ProductCodes': [], 'PublicDnsName': '', 'State': {'Code': 80, 'Name': 'stopped'}, 'StateTransitionReason': 'User initiated (2018-11-02 20:10:16 GMT)', 'SubnetId': 'subnet-cfff63a6', 'VpcId': 'vpc-00fd7369', 'Architecture': 'x86_64', 'BlockDeviceMappings': [{'DeviceName': '/dev/xvda', 'Ebs': {'AttachTime': datetime.datetime(2018, 10, 25, 21, 51, 6, tzinfo=tzutc()), 'DeleteOnTermination': True, 'Status': 'attached', 'VolumeId': 'vol-0221cdbd6198a1dad'}}], 'ClientToken': '', 'EbsOptimized': False, 'EnaSupport': True, 'Hypervisor': 'xen', 'NetworkInterfaces': [{'Attachment': {'AttachTime': datetime.datetime(2018, 10, 25, 21, 51, 5, tzinfo=tzutc()), 'AttachmentId': 'eni-attach-08008f944c53eda7b', 'DeleteOnTermination': True, 'DeviceIndex': 0, 'Status': 'attached'}, 'Description': '', 'Groups': [{'GroupName': 'launch-wizard-7', 'GroupId': 'sg-0c3bad18fd2e3dddb'}], 'Ipv6Addresses': [], 'MacAddress': '02:25:a8:ca:83:06', 'NetworkInterfaceId': 'eni-0c66d4d219dcd4fd8', 'OwnerId': '214203888501', 'PrivateDnsName': 'ip-172-31-7-124.us-east-2.compute.internal', 'PrivateIpAddress': '172.31.7.124', 'PrivateIpAddresses': [{'Primary': True, 'PrivateDnsName': 'ip-172-31-7-124.us-east-2.compute.internal', 'PrivateIpAddress': '172.31.7.124'}], 'SourceDestCheck': True, 'Status': 'in-use', 'SubnetId': 'subnet-cfff63a6', 'VpcId': 'vpc-00fd7369', 'InterfaceType': 'interface'}], 'RootDeviceName': '/dev/xvda', 'RootDeviceType': 'ebs', 'SecurityGroups': [{'GroupName': 'launch-wizard-7', 'GroupId': 'sg-0c3bad18fd2e3dddb'}], 'SourceDestCheck': True, 'StateReason': {'Code': 'Client.UserInitiatedShutdown', 'Message': 'Client.UserInitiatedShutdown: User initiated shutdown'}, 'VirtualizationType': 'hvm', 'CpuOptions': {'CoreCount': 4, 'ThreadsPerCore': 1}, 'CapacityReservationSpecification': {'CapacityReservationPreference': 'open'}, 'HibernationOptions': {'Configured': False}}], 'OwnerId': '214203888501', 'ReservationId': 'r-06a33b3ddc67ae88d'}], 'ResponseMetadata': {'RequestId': '13521ed5-926e-4cb4-aacb-17e6cbdc6554', 'HTTPStatusCode': 200, 'HTTPHeaders': {'content-type': 'text/xml;charset=UTF-8', 'transfer-encoding': 'chunked', 'vary': 'accept-encoding', 'date': 'Tue, 16 Jul 2019 17:05:41 GMT', 'server': 'AmazonEC2'}, 'RetryAttempts': 0}}\n"
     ]
    }
   ],
   "source": [
    "\"\"\"\n",
    "Dump all\n",
    "\"\"\"\n",
    "ec2 = boto3.client('ec2')\n",
    "response = ec2.describe_instances()\n",
    "print(response)"
   ]
  },
  {
   "cell_type": "code",
   "execution_count": 14,
   "metadata": {},
   "outputs": [
    {
     "name": "stdout",
     "output_type": "stream",
     "text": [
      "InstanceId: i-0f91860560c05f3e0 t2.2xlarge stopped 2019-05-06 11:58:29+00:00\n",
      "VolumeId vol-0df2ad29c940eefaa\n",
      "\n",
      "\n",
      "InstanceId: i-032722d42b168e5ca t2.nano stopped 2019-03-07 23:45:04+00:00\n",
      "VolumeId vol-0fcefc4dc1a14fcd7\n",
      "\n",
      "\n",
      "InstanceId: i-045f15cc150ebb7b6 c5d.large stopped 2018-12-06 17:55:14+00:00\n",
      "VolumeId vol-0f93cea9802d70156\n",
      "\n",
      "\n",
      "InstanceId: i-07d0b05c453b849b8 m4.xlarge stopped 2019-05-11 11:50:48+00:00\n",
      "VolumeId vol-0ea7eb308d4078bba\n",
      "\n",
      "\n",
      "InstanceId: i-08f6e90e0873c7da3 t2.2xlarge stopped 2018-11-06 22:04:48+00:00\n",
      "VolumeId vol-0283a2b656a40da4c\n",
      "\n",
      "\n",
      "InstanceId: i-05f52c6dad48d1fc5 t2.micro stopped 2019-01-03 19:13:52+00:00\n",
      "\n",
      " {'AmiLaunchIndex': 0, 'ImageId': 'ami-0e40b8d5bc6a56a32', 'InstanceId': 'i-05f52c6dad48d1fc5', 'InstanceType': 't2.micro', 'LaunchTime': datetime.datetime(2019, 1, 3, 19, 13, 52, tzinfo=tzutc()), 'Monitoring': {'State': 'disabled'}, 'Placement': {'AvailabilityZone': 'us-east-2c', 'GroupName': '', 'Tenancy': 'default'}, 'PrivateDnsName': 'ip-172-31-35-182.us-east-2.compute.internal', 'PrivateIpAddress': '172.31.35.182', 'ProductCodes': [], 'PublicDnsName': '', 'State': {'Code': 80, 'Name': 'stopped'}, 'StateTransitionReason': 'User initiated', 'SubnetId': 'subnet-3a15e677', 'VpcId': 'vpc-00fd7369', 'Architecture': 'x86_64', 'BlockDeviceMappings': [{'DeviceName': '/dev/xvda', 'Ebs': {'AttachTime': datetime.datetime(2019, 1, 3, 16, 15, 52, tzinfo=tzutc()), 'DeleteOnTermination': True, 'Status': 'attached', 'VolumeId': 'vol-0902b9dbc5d865c55'}}], 'ClientToken': 'aws-c-Insta-Z9BRJXDJDVVR', 'EbsOptimized': False, 'EnaSupport': True, 'Hypervisor': 'xen', 'NetworkInterfaces': [{'Attachment': {'AttachTime': datetime.datetime(2019, 1, 3, 16, 15, 52, tzinfo=tzutc()), 'AttachmentId': 'eni-attach-01ffcffe0202e9e90', 'DeleteOnTermination': True, 'DeviceIndex': 0, 'Status': 'attached'}, 'Description': '', 'Groups': [{'GroupName': 'aws-cloud9-cloud9-4dakine-b73aa2e686044036a3cc24478b1adcfd-InstanceSecurityGroup-1F1REZOEJISWO', 'GroupId': 'sg-0a1c0ac402393f9be'}], 'Ipv6Addresses': [], 'MacAddress': '0a:1f:4f:4b:41:22', 'NetworkInterfaceId': 'eni-01cff0c6741d89473', 'OwnerId': '214203888501', 'PrivateDnsName': 'ip-172-31-35-182.us-east-2.compute.internal', 'PrivateIpAddress': '172.31.35.182', 'PrivateIpAddresses': [{'Primary': True, 'PrivateDnsName': 'ip-172-31-35-182.us-east-2.compute.internal', 'PrivateIpAddress': '172.31.35.182'}], 'SourceDestCheck': True, 'Status': 'in-use', 'SubnetId': 'subnet-3a15e677', 'VpcId': 'vpc-00fd7369', 'InterfaceType': 'interface'}], 'RootDeviceName': '/dev/xvda', 'RootDeviceType': 'ebs', 'SecurityGroups': [{'GroupName': 'aws-cloud9-cloud9-4dakine-b73aa2e686044036a3cc24478b1adcfd-InstanceSecurityGroup-1F1REZOEJISWO', 'GroupId': 'sg-0a1c0ac402393f9be'}], 'SourceDestCheck': True, 'StateReason': {'Code': 'Client.InstanceInitiatedShutdown', 'Message': 'Client.InstanceInitiatedShutdown: Instance initiated shutdown'}, 'Tags': [{'Key': 'aws:cloudformation:stack-id', 'Value': 'arn:aws:cloudformation:us-east-2:214203888501:stack/aws-cloud9-cloud9-4dakine-b73aa2e686044036a3cc24478b1adcfd/d0a678d0-0f72-11e9-a174-02a5f2ca138c'}, {'Key': 'aws:cloud9:environment', 'Value': 'b73aa2e686044036a3cc24478b1adcfd'}, {'Key': 'aws:cloudformation:logical-id', 'Value': 'Instance'}, {'Key': 'aws:cloud9:owner', 'Value': 'AIDAJAG55SWDT6DG65P66'}, {'Key': 'aws:cloudformation:stack-name', 'Value': 'aws-cloud9-cloud9-4dakine-b73aa2e686044036a3cc24478b1adcfd'}, {'Key': 'Name', 'Value': 'aws-cloud9-cloud9-4dakine-b73aa2e686044036a3cc24478b1adcfd'}], 'VirtualizationType': 'hvm', 'CpuOptions': {'CoreCount': 1, 'ThreadsPerCore': 1}, 'CapacityReservationSpecification': {'CapacityReservationPreference': 'open'}, 'HibernationOptions': {'Configured': False}} \n",
      "\n",
      "\n",
      "VolumeId vol-0902b9dbc5d865c55\n",
      "\n",
      "\n",
      "InstanceId: i-0a200342bfdc8da08 m5d.4xlarge stopped 2019-02-06 19:57:11+00:00\n",
      "VolumeId vol-02a1c87e93518e399\n",
      "VolumeId vol-09c7542aede2ee485\n",
      "VolumeId vol-0bc8a262b8c9c0700\n",
      "\n",
      "\n",
      "InstanceId: i-0b76010d9eb6074d8 t2.micro stopped 2019-05-08 07:42:33+00:00\n",
      "\n",
      "\n",
      "InstanceId: i-0284b0d2661051881 t2.micro stopped 2019-04-03 19:39:24+00:00\n",
      "VolumeId vol-0b9ebf53b85baaf9a\n",
      "\n",
      "\n",
      "InstanceId: i-001b24ddc203de665 t2.large stopped 2018-10-16 21:22:48+00:00\n",
      "VolumeId vol-062cb1abae7d106c1\n",
      "VolumeId vol-0c3107de006b7ed87\n",
      "VolumeId vol-013314223c6ac2424\n",
      "\n",
      "\n",
      "InstanceId: i-0d78d5c8f2e59123e t2.micro stopped 2018-10-18 20:15:05+00:00\n",
      "VolumeId vol-06b22b0ade37f1711\n",
      "VolumeId vol-02aa95827b55daba0\n",
      "VolumeId vol-0f4e0e87defe97a57\n",
      "\n",
      "\n",
      "InstanceId: i-08605b61ae390fa77 t2.micro stopped 2019-04-08 23:14:09+00:00\n",
      "VolumeId vol-0e84fa9db38d7eee2\n",
      "\n",
      "\n",
      "InstanceId: i-0645745034d09d45b t2.micro stopped 2019-05-11 09:44:45+00:00\n",
      "VolumeId vol-0bac229d441dcfccf\n",
      "VolumeId vol-0131b959d4b83fd83\n",
      "\n",
      "\n",
      "InstanceId: i-09c2af6db7bfe5a29 t2.2xlarge stopped 2019-05-17 19:02:52+00:00\n",
      "VolumeId vol-002bfccaff7e9d9e2\n",
      "\n",
      "\n",
      "InstanceId: i-0199716a04e0f0ec5 m5.large stopped 2019-07-03 17:10:36+00:00\n",
      "VolumeId vol-0f9fd959c85cd0e64\n",
      "\n",
      "\n",
      "InstanceId: i-02630715636b487a9 t2.xlarge stopped 2018-11-02 19:48:36+00:00\n",
      "VolumeId vol-0221cdbd6198a1dad\n",
      "\n",
      "\n"
     ]
    }
   ],
   "source": [
    "\"\"\"\n",
    "Instance Id, type, State and volumes\n",
    "\"\"\"\n",
    "for k in response['Reservations']:\n",
    "    if 'Instances' in k:\n",
    "        dakine = k['Instances']\n",
    "        for lk in dakine:\n",
    "            if isinstance(lk, dict) and 'InstanceId' in lk:\n",
    "                print('InstanceId:', lk['InstanceId'], lk['InstanceType'], lk['State']['Name'], lk['LaunchTime'])\n",
    "                if 'i-05f52c6dad48d1fc5' == lk['InstanceId']:\n",
    "                    print('\\n',lk,'\\n\\n')\n",
    "                if 'BlockDeviceMappings' in lk:\n",
    "                    EBS_list = lk['BlockDeviceMappings']\n",
    "                    for EB in EBS_list:\n",
    "                        if 'Ebs' in EB:\n",
    "                            this_vol = EB['Ebs']\n",
    "                            print('VolumeId', this_vol['VolumeId'])\n",
    "                        \n",
    "            #print(dakine['ImageId'])\n",
    "            else:\n",
    "                print(type(lk))\n",
    "            print('\\n')"
   ]
  },
  {
   "cell_type": "code",
   "execution_count": 38,
   "metadata": {},
   "outputs": [
    {
     "name": "stdout",
     "output_type": "stream",
     "text": [
      "Attached to InstanceId i-032722d42b168e5ca\n",
      "Attached to InstanceId i-045f15cc150ebb7b6\n",
      "Attached to InstanceId i-05f52c6dad48d1fc5\n",
      "Attached to InstanceId i-0a200342bfdc8da08\n",
      "Attached to InstanceId i-0a200342bfdc8da08\n",
      "Attached to InstanceId i-0a200342bfdc8da08\n",
      "Attached to InstanceId i-0284b0d2661051881\n",
      "Attached to InstanceId i-08605b61ae390fa77\n",
      "Attached to InstanceId i-07d0b05c453b849b8\n",
      "Attached to InstanceId i-0d78d5c8f2e59123e\n",
      "Attached to InstanceId i-0d78d5c8f2e59123e\n",
      "Attached to InstanceId i-0d78d5c8f2e59123e\n",
      "Attached to InstanceId i-050e5a8073ea41f4e\n",
      "Attached to InstanceId i-0f91860560c05f3e0\n",
      "Attached to InstanceId i-0645745034d09d45b\n",
      "Attached to InstanceId i-0645745034d09d45b\n",
      "Attached to InstanceId i-0199716a04e0f0ec5\n",
      "Attached to InstanceId i-001b24ddc203de665\n",
      "Attached to InstanceId i-001b24ddc203de665\n",
      "Attached to InstanceId i-001b24ddc203de665\n",
      "Attached to InstanceId i-02630715636b487a9\n",
      "Attached to InstanceId i-09c2af6db7bfe5a29\n",
      "Attached to InstanceId i-08f6e90e0873c7da3\n",
      "Attached to InstanceId i-04f358cbc200e0e60\n"
     ]
    }
   ],
   "source": [
    "\"\"\"\n",
    "InstanceId Attachment info\n",
    "\"\"\"\n",
    "respoV = ec2.describe_volumes()\n",
    "# print(respoV)\n",
    "for V in respoV['Volumes']:\n",
    "    # print(V, '\\n\\n')\n",
    "    for A in V['Attachments']:\n",
    "        #print(A, '\\n')\n",
    "        print('Attached to InstanceId',A['InstanceId'])\n",
    "    \n",
    "    "
   ]
  },
  {
   "cell_type": "code",
   "execution_count": null,
   "metadata": {},
   "outputs": [],
   "source": []
  }
 ],
 "metadata": {
  "kernelspec": {
   "display_name": "Python 3",
   "language": "python",
   "name": "python3"
  },
  "language_info": {
   "codemirror_mode": {
    "name": "ipython",
    "version": 3
   },
   "file_extension": ".py",
   "mimetype": "text/x-python",
   "name": "python",
   "nbconvert_exporter": "python",
   "pygments_lexer": "ipython3",
   "version": "3.6.5"
  }
 },
 "nbformat": 4,
 "nbformat_minor": 2
}
