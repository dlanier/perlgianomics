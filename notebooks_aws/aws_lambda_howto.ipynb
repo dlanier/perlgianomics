{
 "cells": [
  {
   "cell_type": "markdown",
   "metadata": {},
   "source": [
    "# EC2 scale-up or down with python boto3\n",
    "## aws lambda\n",
    "[aws lambda python development package](https://docs.aws.amazon.com/lambda/latest/dg/lambda-python-how-to-create-deployment-package.html) <br>\n",
    "[aws lambda python env](https://docs.aws.amazon.com/lambda/latest/dg/python-programming-model.html) <br>\n",
    "\n",
    "## access aws ec2 instances with boto3:\n",
    "[boto3 ec2 client](https://boto3.amazonaws.com/v1/documentation/api/latest/reference/services/ec2.html#client) <br>\n",
    "[boto3 ec2 client describe instances](https://boto3.amazonaws.com/v1/documentation/api/latest/reference/services/ec2.html#EC2.Client.describe_instances) <br>\n",
    "***\n",
    "## example code\n",
    "[ipswitch blog how-to](https://blog.ipswitch.com/managing-aws-ec2-infrastructure-with-python)<br> "
   ]
  },
  {
   "cell_type": "code",
   "execution_count": 1,
   "metadata": {},
   "outputs": [],
   "source": [
    "import os\n",
    "import sys\n",
    "import boto3"
   ]
  },
  {
   "cell_type": "code",
   "execution_count": 4,
   "metadata": {},
   "outputs": [
    {
     "data": {
      "text/plain": [
       "<botocore.client.Lambda at 0x10aed30b8>"
      ]
     },
     "execution_count": 4,
     "metadata": {},
     "output_type": "execute_result"
    }
   ],
   "source": [
    "meClient = boto3.client('lambda')\n",
    "meClient"
   ]
  },
  {
   "cell_type": "code",
   "execution_count": null,
   "metadata": {},
   "outputs": [],
   "source": []
  }
 ],
 "metadata": {
  "kernelspec": {
   "display_name": "Python 3",
   "language": "python",
   "name": "python3"
  },
  "language_info": {
   "codemirror_mode": {
    "name": "ipython",
    "version": 3
   },
   "file_extension": ".py",
   "mimetype": "text/x-python",
   "name": "python",
   "nbconvert_exporter": "python",
   "pygments_lexer": "ipython3",
   "version": "3.6.5"
  }
 },
 "nbformat": 4,
 "nbformat_minor": 2
}
