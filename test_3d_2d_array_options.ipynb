{
 "cells": [
  {
   "cell_type": "markdown",
   "metadata": {},
   "source": [
    "# ReTool notebook for usage in the cromwell container with some viewer\n",
    "\n",
    "[IGV splash page](http://software.broadinstitute.org/software/igv/) <br>\n",
    "[Broad Inst IGV docker registry](https://hub.docker.com/r/thephilross/igv/) <br>\n",
    "[wdl doc: scatter/gather smather](https://software.broadinstitute.org/wdl/documentation/article?id=7614) <br>\n",
    "```bash\n",
    "# IGV docker container\n",
    "# https://hub.docker.com/r/thephilross/igv/dockerfile\n",
    "FROM ubuntu:14.04\n",
    "\n",
    "MAINTAINER Philipp Ross, philippross369@gmail.com\n",
    "\n",
    "ENV DEBIAN_FRONTEND noninteractive\n",
    "\n",
    "RUN apt-get update && apt-get install -y \\\n",
    "\tsoftware-properties-common \\\n",
    "\tdefault-jre \\\n",
    "\twget \\\n",
    "\tunzip \\\n",
    "\tglib-networking-common\n",
    "\n",
    "RUN mkdir -p /igv && \\\n",
    "\tcd /igv && \\\n",
    "\twget http://www.broadinstitute.org/igv/projects/downloads/IGV_2.3.42.zip && \\\n",
    "\tunzip IGV_2.3.42.zip && \\\n",
    "\tcd IGV_2.3.42/ && \\\n",
    "\tsed -i 's/Xmx2000/Xmx8000/g' igv.sh && \\\n",
    "\tcd /usr/bin && \\\n",
    "\tln -s /igv/IGV_2.3.42/igv.sh ./igv\n",
    "\n",
    "CMD [\"/usr/bin/igv\"]\n",
    "```\n"
   ]
  },
  {
   "cell_type": "code",
   "execution_count": 2,
   "metadata": {},
   "outputs": [
    {
     "name": "stdout",
     "output_type": "stream",
     "text": [
      "Womtool and Cromwell jar files\n",
      "['cromwell-36.jar', 'womtool-36.jar', 'jupyter']\n"
     ]
    }
   ],
   "source": [
    "#                         import libraries, view the content of the externally (locally) mounted directory\n",
    "import os\n",
    "import sys\n",
    "import numpy as np\n",
    "import pandas as pd\n",
    "\n",
    "cromwell_dir = '/usr/local/etc'\n",
    "if os.path.isdir(cromwell_dir) == False:\n",
    "    print('Cromwell not found:')\n",
    "else:\n",
    "    print('Womtool and Cromwell jar files')\n",
    "    print(os.listdir(cromwell_dir))\n",
    "    \n",
    "# external_mount = os.getcwd()\n",
    "external_mount = '/home/tmp_usr/run_dir'\n",
    "what_all = os.listdir(external_mount)"
   ]
  },
  {
   "cell_type": "code",
   "execution_count": 5,
   "metadata": {},
   "outputs": [],
   "source": [
    "os.mkdir('/home/tmp_usr/run_dir/arr_opts_test')"
   ]
  },
  {
   "cell_type": "code",
   "execution_count": 41,
   "metadata": {},
   "outputs": [
    {
     "name": "stdout",
     "output_type": "stream",
     "text": [
      "Overwriting /home/tmp_usr/run_dir/arr_opts_test/Test32opts.json\n"
     ]
    }
   ],
   "source": [
    "%%writefile /home/tmp_usr/run_dir/arr_opts_test/Test32opts.json\n",
    "{\n",
    "    \"some_message\": \"nothing was input\",\n",
    "    \"a_of_a_of_arrays\": \"false\",\n",
    "    \"a_of_arrays\": \"false\"\n",
    "}"
   ]
  },
  {
   "cell_type": "code",
   "execution_count": 42,
   "metadata": {},
   "outputs": [
    {
     "name": "stdout",
     "output_type": "stream",
     "text": [
      "Overwriting /home/tmp_usr/run_dir/arr_opts_test/T32opts.wdl\n"
     ]
    }
   ],
   "source": [
    "%%writefile /home/tmp_usr/run_dir/arr_opts_test/T32opts.wdl\n",
    "###############################################\n",
    "# Usage:\n",
    "# java -jar full/path/to/cromwell run /home/tmp_usr/run_dir/arr_opts_test/T32opts.wdl\n",
    "###############################################\n",
    "\n",
    "task throw_a_fit {\n",
    "    String personalized_message\n",
    "    command {\n",
    "        echo \"whatever ${personalized_message}\"\n",
    "    }\n",
    "    output {\n",
    "        String message_impossible = read_string(sdtout())\n",
    "    }\n",
    "}\n",
    "\n",
    "workflow test32opts {\n",
    "    String some_message\n",
    "    Boolean a_of_arrays\n",
    "    Boolean a_of_a_of_arrays\n",
    "    \n",
    "    if (!a_of_a_of_arrays && !a_of_arrays) {\n",
    "        call throw_a_fit as fooie {\n",
    "            input:\n",
    "                personalized_message = some_message   \n",
    "        }\n",
    "    }\n",
    "    output {\n",
    "        fooie.message_impossible\n",
    "    }\n",
    "}\n"
   ]
  },
  {
   "cell_type": "code",
   "execution_count": 43,
   "metadata": {},
   "outputs": [
    {
     "name": "stdout",
     "output_type": "stream",
     "text": [
      "java -jar /usr/local/etc/cromwell-36.jar run /home/tmp_usr/run_dir/arr_opts_test/T32opts.wdl -i /home/tmp_usr/run_dir/arr_opts_test/Test32opts.json\n"
     ]
    },
    {
     "data": {
      "text/plain": [
       "256"
      ]
     },
     "execution_count": 43,
     "metadata": {},
     "output_type": "execute_result"
    }
   ],
   "source": [
    "run_string = 'java -jar /usr/local/etc/cromwell-36.jar'\n",
    "run_string += ' run /home/tmp_usr/run_dir/arr_opts_test/T32opts.wdl'\n",
    "run_string += ' -i /home/tmp_usr/run_dir/arr_opts_test/Test32opts.json'\n",
    "print(run_string)\n",
    "os.system(run_string)"
   ]
  },
  {
   "cell_type": "code",
   "execution_count": null,
   "metadata": {},
   "outputs": [],
   "source": [
    "# with open('/home/tmp_usr/run_dir/arr_opts_test/T32opts.wdl', 'r') as fh:\n",
    "#     lines = fh.read().splitlines()\n",
    "# for line in lines:\n",
    "#     print(line)"
   ]
  },
  {
   "cell_type": "code",
   "execution_count": 32,
   "metadata": {},
   "outputs": [
    {
     "data": {
      "text/plain": [
       "['Test32opts.json', 'T32opts.wdl']"
      ]
     },
     "execution_count": 32,
     "metadata": {},
     "output_type": "execute_result"
    }
   ],
   "source": [
    "os.listdir('/home/tmp_usr/run_dir/arr_opts_test')"
   ]
  },
  {
   "cell_type": "code",
   "execution_count": null,
   "metadata": {},
   "outputs": [],
   "source": []
  },
  {
   "cell_type": "markdown",
   "metadata": {},
   "source": [
    "### Write files in this \"perishable directory\"\n",
    "Or upload this notebook to the ../tmp_usr/run_dir and output will be saved in the mounted drive."
   ]
  },
  {
   "cell_type": "code",
   "execution_count": 24,
   "metadata": {},
   "outputs": [
    {
     "name": "stdout",
     "output_type": "stream",
     "text": [
      "Writing AAA_json.json\n"
     ]
    }
   ],
   "source": [
    "%%writefile AAA_json.json\n",
    "{\n",
    "    \"wf_hello.ImpString\": [ \n",
    "                          [ [\"0:0:0\", \"0:0:1\"], \n",
    "                            [\"0:1:0\",\"0:1:1\"] ],  \n",
    "                          [ [\"1:0:0\", \"1:0:1\"], \n",
    "                            [\"1:1:0\",\"1:1:1\"] ], \n",
    "                          [ [\"2:0:0\", \"2:0:1\"], \n",
    "                            [\"2:1:0\",\"2:1:1\"] ] ]\n",
    "}"
   ]
  },
  {
   "cell_type": "code",
   "execution_count": 33,
   "metadata": {},
   "outputs": [
    {
     "name": "stdout",
     "output_type": "stream",
     "text": [
      "Overwriting AAA_T2IdxArray.wdl\n"
     ]
    }
   ],
   "source": [
    "%%writefile AAA_T2IdxArray.wdl\n",
    "###########################\n",
    "#              AAA_T2IdxArray.wdl\n",
    "# Usage:\n",
    "# java -jar full/path/to/cromwell run AAA_T2IdxArray.wdl -i AAA_json.json\n",
    "# wf_hello.ImpString = [[[\"1\"]]] \n",
    "###########################\n",
    "\n",
    "task hello {\n",
    "  String addressee\n",
    "  Int One\n",
    "  Int Two\n",
    "  Int Three\n",
    "  Int sIx\n",
    "  command {\n",
    "    echo \"Input String =  ${addressee} With Iterator Index: ${sIx}  [${One}][${Two}][${Three}]\"\n",
    "  }\n",
    "  output {\n",
    "    String message = read_string(stdout())\n",
    "  }\n",
    "}\n",
    "\n",
    "workflow wf_hello {\n",
    "\n",
    "  Array[Array[Array[String]]] ImpString\n",
    "  Int arr1_size = length(ImpString)\n",
    "  Int arr2_size = length(ImpString[0])\n",
    "  Int arr3_size = length(ImpString[0][0])\n",
    "\n",
    "  Array[Int] Index = range(arr1_size * arr2_size * arr3_size)\n",
    "\n",
    "  scatter (idx in Index) {\n",
    "\n",
    "    Int reads_idx = idx % arr3_size\n",
    "\n",
    "    Int lanes_idx = (idx / arr2_size) % arr2_size\n",
    "\n",
    "    Int samples_idx = (idx / (arr3_size * arr2_size)) % arr1_size\n",
    "\n",
    "    call hello as howdy {\n",
    "      input:\n",
    "        addressee = ImpString[samples_idx][lanes_idx][reads_idx],\n",
    "        One = samples_idx,\n",
    "        Two = lanes_idx,\n",
    "        Three = reads_idx,\n",
    "        sIx = idx\n",
    "    }\n",
    "  }\n",
    "\n",
    "  output {\n",
    "     howdy.message\n",
    "  }\n",
    "}\n"
   ]
  },
  {
   "cell_type": "code",
   "execution_count": 34,
   "metadata": {},
   "outputs": [
    {
     "data": {
      "text/plain": [
       "256"
      ]
     },
     "execution_count": 34,
     "metadata": {},
     "output_type": "execute_result"
    }
   ],
   "source": [
    "run_string = 'java -jar /usr/local/etc/cromwell-36.jar run AAA_T2IdxArray.wdl -i AAA_json.json'\n",
    "os.system(run_string)"
   ]
  },
  {
   "cell_type": "code",
   "execution_count": 35,
   "metadata": {},
   "outputs": [
    {
     "data": {
      "text/plain": [
       "['956b22e4-6af1-4c20-bd9a-fe25c21e7345']"
      ]
     },
     "execution_count": 35,
     "metadata": {},
     "output_type": "execute_result"
    }
   ],
   "source": [
    "\"['956b22e4-6af1-4c20-bd9a-fe25c21e7345']\"\n",
    "os.listdir('cromwell-executions/wf_hello')"
   ]
  },
  {
   "cell_type": "code",
   "execution_count": 28,
   "metadata": {},
   "outputs": [
    {
     "data": {
      "text/plain": [
       "['stdout',\n",
       " 'script.background',\n",
       " 'stderr',\n",
       " 'script.submit',\n",
       " 'script',\n",
       " 'stdout.background',\n",
       " 'rc',\n",
       " 'stderr.background']"
      ]
     },
     "execution_count": 28,
     "metadata": {},
     "output_type": "execute_result"
    }
   ],
   "source": [
    "ex_path = 'cromwell-executions/wf_hello/956b22e4-6af1-4c20-bd9a-fe25c21e7345/call-howdy'\n",
    "os.listdir(os.path.join(ex_path, 'shard-0/execution'))"
   ]
  },
  {
   "cell_type": "code",
   "execution_count": 29,
   "metadata": {},
   "outputs": [
    {
     "name": "stdout",
     "output_type": "stream",
     "text": [
      "12 shards found\n",
      "with stdout files:\n",
      "\n",
      "\n",
      "Input String =  2:0:1 With Iterator Index: 9  [2][0][1]\n",
      "Input String =  1:1:1 With Iterator Index: 7  [1][1][1]\n",
      "Input String =  0:0:0 With Iterator Index: 0  [0][0][0]\n",
      "Input String =  0:0:1 With Iterator Index: 1  [0][0][1]\n",
      "Input String =  1:1:0 With Iterator Index: 6  [1][1][0]\n",
      "Input String =  2:0:0 With Iterator Index: 8  [2][0][0]\n",
      "Input String =  2:1:1 With Iterator Index: 11  [2][1][1]\n",
      "Input String =  2:1:0 With Iterator Index: 10  [2][1][0]\n",
      "Input String =  0:1:1 With Iterator Index: 3  [0][1][1]\n",
      "Input String =  1:0:0 With Iterator Index: 4  [1][0][0]\n",
      "Input String =  1:0:1 With Iterator Index: 5  [1][0][1]\n",
      "Input String =  0:1:0 With Iterator Index: 2  [0][1][0]\n"
     ]
    }
   ],
   "source": [
    "\n",
    "shards = [os.path.join(ex_path, d + '/execution') for d in os.listdir(ex_path)]\n",
    "print('%i shards found\\nwith stdout files:\\n\\n'%(len(shards)))\n",
    "for shard in shards:\n",
    "    with open(os.path.join(shard, 'stdout'), 'r') as fh:\n",
    "        lines = fh.readlines()\n",
    "    for line in lines:\n",
    "        print(line.strip())"
   ]
  },
  {
   "cell_type": "code",
   "execution_count": null,
   "metadata": {},
   "outputs": [],
   "source": []
  },
  {
   "cell_type": "code",
   "execution_count": null,
   "metadata": {},
   "outputs": [],
   "source": []
  },
  {
   "cell_type": "code",
   "execution_count": null,
   "metadata": {},
   "outputs": [],
   "source": []
  },
  {
   "cell_type": "code",
   "execution_count": null,
   "metadata": {},
   "outputs": [],
   "source": []
  },
  {
   "cell_type": "code",
   "execution_count": null,
   "metadata": {},
   "outputs": [],
   "source": []
  }
 ],
 "metadata": {
  "kernelspec": {
   "display_name": "Python 3",
   "language": "python",
   "name": "python3"
  },
  "language_info": {
   "codemirror_mode": {
    "name": "ipython",
    "version": 3
   },
   "file_extension": ".py",
   "mimetype": "text/x-python",
   "name": "python",
   "nbconvert_exporter": "python",
   "pygments_lexer": "ipython3",
   "version": "3.6.5"
  }
 },
 "nbformat": 4,
 "nbformat_minor": 2
}
